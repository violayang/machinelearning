{
 "cells": [
  {
   "cell_type": "code",
   "execution_count": 1,
   "metadata": {},
   "outputs": [
    {
     "data": {
      "text/markdown": [
       "$x \\in \\mathcal{S} \\implies y \\in \\mathcal{T}$"
      ],
      "text/plain": [
       "<IPython.core.display.Markdown object>"
      ]
     },
     "metadata": {},
     "output_type": "display_data"
    }
   ],
   "source": [
    "# Code for pretty-printing math notation\n",
    "from IPython.display import display, Math, Latex, Markdown\n",
    "\n",
    "def display_math(str_latex):\n",
    "    display(Markdown('${}$'.format(str_latex)))\n",
    "    \n",
    "# Demo:\n",
    "display_math(r'x \\in \\mathcal{S} \\implies y \\in \\mathcal{T}')"
   ]
  },
  {
   "cell_type": "code",
   "execution_count": 19,
   "metadata": {},
   "outputs": [],
   "source": [
    "import re"
   ]
  },
  {
   "cell_type": "code",
   "execution_count": 31,
   "metadata": {},
   "outputs": [
    {
     "ename": "SyntaxError",
     "evalue": "invalid syntax (<ipython-input-31-4a50b766c928>, line 28)",
     "output_type": "error",
     "traceback": [
      "\u001b[0;36m  File \u001b[0;32m\"<ipython-input-31-4a50b766c928>\"\u001b[0;36m, line \u001b[0;32m28\u001b[0m\n\u001b[0;31m    variables.append(random.choice([*string.ascii_lowercase] + ['']))\u001b[0m\n\u001b[0m                                    ^\u001b[0m\n\u001b[0;31mSyntaxError\u001b[0m\u001b[0;31m:\u001b[0m invalid syntax\n"
     ]
    }
   ],
   "source": [
    "# Test cell 2: test against random equations (2 points)\n",
    "\n",
    "import random\n",
    "import string\n",
    "import os\n",
    "from random import randint\n",
    "from collections import defaultdict\n",
    "\n",
    "def is_vocareum():\n",
    "    return os.path.exists('.voc')\n",
    "\n",
    "def generateEquation():\n",
    "    #Generating the number of variables in the equation:\n",
    "    num_var=randint(1,20)\n",
    "    vc_dict=defaultdict(list)\n",
    "    vc_const = 0\n",
    "    #Generating the variables and coefficients:\n",
    "    variables=[]\n",
    "    coefficients=[]\n",
    "    variables2=[]\n",
    "    coefficients2=[]\n",
    "    equation1=''\n",
    "    equation2=''\n",
    "    equation=''\n",
    "    \n",
    "    for i in range(0, num_var):\n",
    "        coefficients.append(randint(1, 20))\n",
    "        variables.append(random.choice([*string.ascii_lowercase] + ['']))\n",
    "        \n",
    "    for i in range(0, num_var):\n",
    "        coefficients2.append(randint(1, 20))\n",
    "        variables2.append(random.choice([*string.ascii_lowercase] + ['']))\n",
    "\n",
    "    #Forming the equations:\n",
    "    for i in range(0, num_var):\n",
    "        prob= random.uniform(0, 1)\n",
    "        sign=''\n",
    "        if(prob>=0.5):\n",
    "            sign='+'\n",
    "        else:\n",
    "            sign='-'\n",
    "        equation1=equation1+sign+str(coefficients[i])+variables[i]\n",
    "        equation2=equation2+sign+str(coefficients2[i])+variables2[i]\n",
    "        if variables[i]:\n",
    "            if(variables[i] not in vc_dict.keys()):\n",
    "                vc_dict[variables[i]] = [int(sign+str(coefficients[i]))]\n",
    "            else:\n",
    "                value = int(vc_dict.pop(variables[i])[0])\n",
    "                value = value + int(sign+str(coefficients[i]))\n",
    "                vc_dict[variables[i]] = [value]\n",
    "        else:\n",
    "            vc_const -= int(sign+str(coefficients[i]))\n",
    "            \n",
    "        if variables2[i]:\n",
    "            if(variables2[i] not in vc_dict.keys()):\n",
    "                vc_dict[variables2[i]] = [-1 * int(sign+str(coefficients2[i]))]\n",
    "            else:\n",
    "                value = vc_dict.pop(variables2[i])[0]\n",
    "                value = value - int(sign+str(coefficients2[i]))\n",
    "                vc_dict[variables2[i]] = [value]\n",
    "        else:\n",
    "            vc_const += int(sign+str(coefficients2[i]))\n",
    "            \n",
    "\n",
    "    #Finding an inequality for the equation\n",
    "    inequality_prob= random.uniform(0, 1)\n",
    "    inequality=''\n",
    "    if(inequality_prob>=0 and inequality_prob<0.33):\n",
    "        inequality='='\n",
    "    elif(inequality_prob>=0.33 and inequality_prob<0.66):\n",
    "        inequality='>='\n",
    "    else:\n",
    "        inequality='<='\n",
    "\n",
    "    equation= equation1+inequality\n",
    "    if(equation2[0]=='+'):\n",
    "        equation= equation+equation2[1:]\n",
    "    else:\n",
    "        equation= equation+equation2\n",
    "\n",
    "    if(equation[0]=='+'):    \n",
    "        return equation[1:], vc_dict, vc_const\n",
    "    else:\n",
    "        return equation, vc_dict, vc_const\n",
    "    \n",
    "filename=''\n",
    "if is_vocareum():\n",
    "    filename = '../resource/asnlib/publicdata/e2.txt'\n",
    "else:\n",
    "    filename = 'e2.txt'\n",
    "\n",
    "with open(filename) as f:\n",
    "    data = f.readlines()\n",
    "    motif = data\n",
    "motif=str(motif)[2:-4]\n",
    "motif=motif[:3]+motif[4:]\n",
    "motif=motif[:5]+motif[6:]\n",
    "motif=motif[:12]+motif[13:]\n",
    "pattern2 = re.compile(motif)"
   ]
  },
  {
   "cell_type": "code",
   "execution_count": 29,
   "metadata": {},
   "outputs": [
    {
     "data": {
      "text/plain": [
       "['', 'words', 'world', 'rewond', 'two']"
      ]
     },
     "execution_count": 29,
     "metadata": {},
     "output_type": "execute_result"
    }
   ],
   "source": [
    "re.findall(r'^|\\w+', ' words world rewond two')"
   ]
  },
  {
   "cell_type": "code",
   "execution_count": 30,
   "metadata": {},
   "outputs": [
    {
     "ename": "NameError",
     "evalue": "name 'generateEquation' is not defined",
     "output_type": "error",
     "traceback": [
      "\u001b[0;31m---------------------------------------------------------------------------\u001b[0m",
      "\u001b[0;31mNameError\u001b[0m                                 Traceback (most recent call last)",
      "\u001b[0;32m<ipython-input-30-7f535325e99e>\u001b[0m in \u001b[0;36m<module>\u001b[0;34m()\u001b[0m\n\u001b[1;32m      1\u001b[0m \u001b[0;32mfor\u001b[0m \u001b[0mi\u001b[0m \u001b[0;32min\u001b[0m \u001b[0mrange\u001b[0m\u001b[0;34m(\u001b[0m\u001b[0;36m0\u001b[0m\u001b[0;34m,\u001b[0m \u001b[0;36m5\u001b[0m\u001b[0;34m)\u001b[0m\u001b[0;34m:\u001b[0m\u001b[0;34m\u001b[0m\u001b[0m\n\u001b[0;32m----> 2\u001b[0;31m     \u001b[0mequation\u001b[0m\u001b[0;34m,\u001b[0m \u001b[0mvc_dict\u001b[0m\u001b[0;34m,\u001b[0m \u001b[0mvc_const\u001b[0m\u001b[0;34m=\u001b[0m \u001b[0mgenerateEquation\u001b[0m\u001b[0;34m(\u001b[0m\u001b[0;34m)\u001b[0m\u001b[0;34m\u001b[0m\u001b[0m\n\u001b[0m\u001b[1;32m      3\u001b[0m     \u001b[0;32mprint\u001b[0m\u001b[0;34m(\u001b[0m\u001b[0mvc_dict\u001b[0m\u001b[0;34m)\u001b[0m\u001b[0;34m\u001b[0m\u001b[0m\n\u001b[1;32m      4\u001b[0m     \u001b[0;32mprint\u001b[0m\u001b[0;34m(\u001b[0m\u001b[0mvc_const\u001b[0m\u001b[0;34m)\u001b[0m\u001b[0;34m\u001b[0m\u001b[0m\n\u001b[1;32m      5\u001b[0m     \u001b[0;32mprint\u001b[0m\u001b[0;34m(\u001b[0m\u001b[0;34m\"The equation is: \"\u001b[0m\u001b[0;34m,\u001b[0m \u001b[0mequation\u001b[0m\u001b[0;34m)\u001b[0m\u001b[0;34m\u001b[0m\u001b[0m\n",
      "\u001b[0;31mNameError\u001b[0m: name 'generateEquation' is not defined"
     ]
    }
   ],
   "source": [
    "for i in range(0, 5):\n",
    "    equation, vc_dict, vc_const= generateEquation()\n",
    "    print(vc_dict)\n",
    "    print(vc_const)\n",
    "    print(\"The equation is: \", equation)"
   ]
  },
  {
   "cell_type": "code",
   "execution_count": null,
   "metadata": {},
   "outputs": [],
   "source": []
  },
  {
   "cell_type": "code",
   "execution_count": null,
   "metadata": {},
   "outputs": [],
   "source": []
  },
  {
   "cell_type": "code",
   "execution_count": null,
   "metadata": {},
   "outputs": [],
   "source": []
  },
  {
   "cell_type": "code",
   "execution_count": null,
   "metadata": {},
   "outputs": [],
   "source": []
  },
  {
   "cell_type": "code",
   "execution_count": null,
   "metadata": {},
   "outputs": [],
   "source": []
  },
  {
   "cell_type": "code",
   "execution_count": null,
   "metadata": {},
   "outputs": [],
   "source": []
  },
  {
   "cell_type": "code",
   "execution_count": null,
   "metadata": {},
   "outputs": [],
   "source": []
  },
  {
   "cell_type": "code",
   "execution_count": null,
   "metadata": {},
   "outputs": [],
   "source": []
  },
  {
   "cell_type": "code",
   "execution_count": null,
   "metadata": {},
   "outputs": [],
   "source": []
  },
  {
   "cell_type": "code",
   "execution_count": null,
   "metadata": {},
   "outputs": [],
   "source": []
  },
  {
   "cell_type": "code",
   "execution_count": null,
   "metadata": {},
   "outputs": [],
   "source": []
  },
  {
   "cell_type": "code",
   "execution_count": null,
   "metadata": {},
   "outputs": [],
   "source": []
  },
  {
   "cell_type": "code",
   "execution_count": null,
   "metadata": {},
   "outputs": [],
   "source": []
  },
  {
   "cell_type": "code",
   "execution_count": null,
   "metadata": {},
   "outputs": [],
   "source": []
  },
  {
   "cell_type": "code",
   "execution_count": 13,
   "metadata": {},
   "outputs": [
    {
     "ename": "KeyError",
     "evalue": "0",
     "output_type": "error",
     "traceback": [
      "\u001b[0;31m---------------------------------------------------------------------------\u001b[0m",
      "\u001b[0;31mKeyError\u001b[0m                                  Traceback (most recent call last)",
      "\u001b[0;32m<ipython-input-13-96aee42a4d7a>\u001b[0m in \u001b[0;36m<module>\u001b[0;34m()\u001b[0m\n\u001b[0;32m----> 1\u001b[0;31m \u001b[0;32mprint\u001b[0m \u001b[0mret_door_dict\u001b[0m\u001b[0;34m[\u001b[0m\u001b[0;36m0\u001b[0m\u001b[0;34m]\u001b[0m\u001b[0;34m\u001b[0m\u001b[0m\n\u001b[0m",
      "\u001b[0;31mKeyError\u001b[0m: 0"
     ]
    }
   ],
   "source": []
  },
  {
   "cell_type": "code",
   "execution_count": null,
   "metadata": {},
   "outputs": [],
   "source": []
  },
  {
   "cell_type": "code",
   "execution_count": 2,
   "metadata": {},
   "outputs": [
    {
     "name": "stdout",
     "output_type": "stream",
     "text": [
      "Ready!\n"
     ]
    }
   ],
   "source": [
    "# Code for drawing diagrams involving vectors\n",
    "import matplotlib.pyplot as plt\n",
    "%matplotlib inline\n",
    "\n",
    "DEF_FIGLEN = 4\n",
    "DEF_FIGSIZE = (DEF_FIGLEN, DEF_FIGLEN)\n",
    "\n",
    "def figure(figsize=DEF_FIGSIZE):\n",
    "    return plt.figure(figsize=figsize)\n",
    "\n",
    "def multiplot_figsize(plot_dims, base_figsize=DEF_FIGSIZE):\n",
    "    return tuple([p*x for p, x in zip(plot_dims, base_figsize)])\n",
    "\n",
    "def subplots(plot_dims, base_figsize=DEF_FIGSIZE, sharex='col', sharey='row', **kw_args):\n",
    "    assert len(plot_dims) == 2, \"Must define a 2-D plot grid.\"\n",
    "    multiplot_size = multiplot_figsize(plot_dims, base_figsize)\n",
    "    _, axes = plt.subplots(plot_dims[0], plot_dims[1],\n",
    "                           figsize=multiplot_size[::-1],\n",
    "                           sharex=sharex, sharey=sharey,\n",
    "                           **kw_args)\n",
    "    return axes\n",
    "\n",
    "def new_blank_plot(ax=None, xlim=(-5, 5), ylim=(-5, 5), axis_color='gray', title=''):\n",
    "    if ax is None:\n",
    "        ax = plt.gca()\n",
    "    else:\n",
    "        plt.sca(ax)\n",
    "    ax.axis('equal')\n",
    "    if xlim is not None: ax.set_xlim(xlim[0], xlim[1])\n",
    "    if ylim is not None: ax.set_ylim(ylim[0], ylim[1])\n",
    "    if axis_color is not None:\n",
    "        ax.axhline(color=axis_color)\n",
    "        ax.axvline(color=axis_color)\n",
    "    if title is not None:\n",
    "        ax.set_title(title)\n",
    "    return ax\n",
    "\n",
    "def draw_point2d(p, ax=None, marker='o', markersize=5, **kw_args):\n",
    "    assert len(p) == 2, \"Point must be 2-D.\"\n",
    "    if ax is None: ax = plt.gca()\n",
    "    ax.plot(p[0], p[1], marker=marker, markersize=markersize,\n",
    "            **kw_args);\n",
    "\n",
    "def draw_label2d(p, label, coords=False, ax=None, fontsize=14,\n",
    "                 dp=(0.0, 0.1), horizontalalignment='center', verticalalignment='bottom',\n",
    "                 **kw_args):\n",
    "    assert len(p) == 2, \"Position must be 2-D.\"\n",
    "    if ax is None: ax = plt.gca()\n",
    "    text = '{}'.format(label)\n",
    "    if coords:\n",
    "        text += ' = ({}, {})'.format(p[0], p[1])\n",
    "    ax.text(p[0]+dp[0], p[1]+dp[1], text,\n",
    "            fontsize=fontsize,\n",
    "            horizontalalignment=horizontalalignment,\n",
    "            verticalalignment=verticalalignment,\n",
    "            **kw_args)\n",
    "\n",
    "def draw_line2d(start, end, ax=None, width=1.0, color='black', alpha=1.0, **kw_args):\n",
    "    assert len(start) == 2, \"`start` must be a 2-D point.\"\n",
    "    assert len(end) == 2, \"`end` must be a 2-D point.\"\n",
    "    if ax is None:\n",
    "        ax = plt.gca()\n",
    "    x = [start[0], end[0]]\n",
    "    y = [start[1], end[1]]\n",
    "    ax.plot(x, y, linewidth=width, color=color, alpha=alpha, **kw_args);\n",
    "\n",
    "def draw_vector2d(v, ax=None, origin=(0, 0), width=0.15, color='black', alpha=1.0,\n",
    "                  **kw_args):\n",
    "    assert len(v) == 2, \"Input vector must be two-dimensional.\"\n",
    "    if ax is None:\n",
    "        ax = plt.gca()\n",
    "    ax.arrow(origin[0], origin[1], v[0], v[1],\n",
    "             width=width,\n",
    "             facecolor=color,\n",
    "             edgecolor='white',\n",
    "             alpha=alpha,\n",
    "             length_includes_head=True,\n",
    "             **kw_args);\n",
    "    \n",
    "def draw_vector2d_components(v, y_offset_sign=1, vis_offset=0.05, comp_width=1.5, **kw_args):\n",
    "    assert len(v) == 2, \"Vector `v` must be 2-D.\"\n",
    "    y_offset = y_offset_sign * vis_offset\n",
    "    draw_line2d((0, y_offset), (v[0], y_offset), width=comp_width, **kw_args)\n",
    "    draw_line2d((v[0], y_offset), v, width=comp_width, **kw_args)\n",
    "    \n",
    "def draw_angle(theta_start, theta_end, radius=1, center=(0, 0), ax=None, **kw_args):\n",
    "    from matplotlib.patches import Arc\n",
    "    if ax is None: ax = plt.gca()\n",
    "    arc = Arc(center, center[0]+2*radius, center[1]+2*radius,\n",
    "              theta1=theta_start, theta2=theta_end,\n",
    "              **kw_args)\n",
    "    ax.add_patch(arc)\n",
    "            \n",
    "def draw_angle_label(theta_start, theta_end, label=None, radius=1, center=(0, 0), ax=None, **kw_args):\n",
    "    from math import cos, sin, pi\n",
    "    if ax is None: ax = plt.gca()\n",
    "    if label is not None:\n",
    "        theta_label = (theta_start + theta_end) / 2 / 360 * 2.0 * pi\n",
    "        p = (center[0] + radius*cos(theta_label),\n",
    "             center[1] + radius*sin(theta_label))\n",
    "        ax.text(p[0], p[1], label, **kw_args)\n",
    "\n",
    "print(\"Ready!\")"
   ]
  },
  {
   "cell_type": "code",
   "execution_count": 4,
   "metadata": {},
   "outputs": [
    {
     "data": {
      "image/png": "[encoded data removed]",
      "text/plain": [
       "<Figure size 288x288 with 1 Axes>"
      ]
     },
     "metadata": {},
     "output_type": "display_data"
    }
   ],
   "source": [
    "figure()\n",
    "new_blank_plot();"
   ]
  },
  {
   "cell_type": "raw",
   "metadata": {},
   "source": [
    "This is a test for markdown in notebook"
   ]
  },
  {
   "cell_type": "code",
   "execution_count": 16,
   "metadata": {},
   "outputs": [
    {
     "data": {
      "image/png": "[encoded data removed]",
      "text/plain": [
       "<Figure size 288x288 with 1 Axes>"
      ]
     },
     "metadata": {},
     "output_type": "display_data"
    }
   ],
   "source": [
    "# Define three points\n",
    "a = (-3, 3)\n",
    "b = (3.5, 1)\n",
    "c = (0.5, -3)\n",
    "\n",
    "# Draw a figure containing these points\n",
    "figure()\n",
    "new_blank_plot()\n",
    "draw_point2d(a, color='black'); draw_label2d(a, 'a', color='blue', coords=True) ## default: coords = False\n",
    "draw_point2d(b, color='red'); draw_label2d(b, 'b', color='red', coords=True)\n",
    "draw_point2d(c, color='green'); draw_label2d(c, 'c', color='green', coords=True)"
   ]
  },
  {
   "cell_type": "code",
   "execution_count": 8,
   "metadata": {},
   "outputs": [],
   "source": [
    "# python code to represent vestors\n",
    "\n",
    "#####################\n",
    "#  def having trouble to run\n",
    "#####################\n",
    "\n",
    "def vector(*elems, dim=None):\n",
    "    \"\"\"\n",
    "    Exercise: What does this function do?\n",
    "    \"\"\"\n",
    "    if dim is not None:\n",
    "        if len(elems) > 0:\n",
    "            assert dim == len(elems), \"Number of supplied elements differs from the requested dimension.\"\n",
    "        else: # No supplied elements\n",
    "            elems = [0.0] * dim\n",
    "    return tuple(elems)\n",
    "\n",
    "def dim(v):\n",
    "    \"\"\"Returns the dimensionality of the vector `v`\"\"\"\n",
    "    return len(v)\n",
    "\n",
    "v = vector(1.0, 2.0)\n",
    "d = dim(v)\n",
    "print('v = {}    <==  {}-dimensional'.format(v, d))"
   ]
  },
  {
   "cell_type": "code",
   "execution_count": 91,
   "metadata": {},
   "outputs": [
    {
     "name": "stdout",
     "output_type": "stream",
     "text": [
      "v = (1.0, 2.0)    <==  2-dimensional\n"
     ]
    }
   ],
   "source": [
    "def vector(*elems):\n",
    "    \n",
    "    return tuple(elems)\n",
    "\n",
    "v = vector(1.0, 2.0)\n",
    "d = dim(v)\n",
    "print('v = {}    <==  {}-dimensional'.format(v, d))"
   ]
  },
  {
   "cell_type": "code",
   "execution_count": 84,
   "metadata": {},
   "outputs": [
    {
     "name": "stdout",
     "output_type": "stream",
     "text": [
      "First: 21\n",
      "Second: 35\n",
      "Third: 643\n",
      "And all the rest... [55, 73, 90, 467]\n"
     ]
    }
   ],
   "source": [
    "def foo(first, second, third, *therest):\n",
    "    print(\"First: %s\" % first)\n",
    "    print(\"Second: %s\" % second)\n",
    "    print(\"Third: %s\" % third)\n",
    "    print(\"And all the rest... %s\" % list(therest))\n",
    "\n",
    "foo(21,35,643,55,73,90,467)"
   ]
  },
  {
   "cell_type": "code",
   "execution_count": 93,
   "metadata": {},
   "outputs": [],
   "source": [
    "# Another example: Creates a zero-vector of dimension 3\n",
    "\n",
    "#z3 = vector(dim=3)\n",
    "#print('z3 = {}    <== {}-dimensional'.format(z3, dim(z3)))"
   ]
  },
  {
   "cell_type": "code",
   "execution_count": 70,
   "metadata": {},
   "outputs": [
    {
     "ename": "SyntaxError",
     "evalue": "invalid syntax (<ipython-input-70-1eb89d499ac7>, line 1)",
     "output_type": "error",
     "traceback": [
      "\u001b[0;36m  File \u001b[0;32m\"<ipython-input-70-1eb89d499ac7>\"\u001b[0;36m, line \u001b[0;32m1\u001b[0m\n\u001b[0;31m    def vector(*elems, dim=None):\u001b[0m\n\u001b[0m                         ^\u001b[0m\n\u001b[0;31mSyntaxError\u001b[0m\u001b[0;31m:\u001b[0m invalid syntax\n"
     ]
    }
   ],
   "source": [
    "\n",
    "\n"
   ]
  }
 ],
 "metadata": {
  "kernelspec": {
   "display_name": "Python 2",
   "language": "python",
   "name": "python2"
  },
  "language_info": {
   "codemirror_mode": {
    "name": "ipython",
    "version": 2
   },
   "file_extension": ".py",
   "mimetype": "text/x-python",
   "name": "python",
   "nbconvert_exporter": "python",
   "pygments_lexer": "ipython2",
   "version": "2.7.15"
  }
 },
 "nbformat": 4,
 "nbformat_minor": 2
}
