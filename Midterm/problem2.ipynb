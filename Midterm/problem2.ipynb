{
 "cells": [
  {
   "cell_type": "markdown",
   "metadata": {
    "nbgrader": {
     "grade": false,
     "locked": true,
     "solution": false
    }
   },
   "source": [
    "# Problem 2: Exponential smoothing\n",
    "\n",
    "This problem is related to exponential smoothing which is a technique for smoothing time series data. There is exponential weighting of all past observations where more recent observations are more important to the current baseline estimate. Exponential smoothing is a simple method to smooth data and forecast future data.\n",
    "\n",
    "This problem has five exercises, numbered 0 through 4, and is worth a total of ten (10) points. Depending on your approach, exercise 4 may depend on exercises 2 and 3, but exercises 0 and 1 are independent."
   ]
  },
  {
   "cell_type": "code",
   "execution_count": null,
   "metadata": {
    "collapsed": true,
    "nbgrader": {
     "grade": false,
     "locked": true,
     "solution": false
    }
   },
   "outputs": [],
   "source": [
    "import numpy as np\n",
    "import pandas as pd\n",
    "from base64 import b64decode\n",
    "from ast import literal_eval\n",
    "\n",
    "#Some functions we use for testing\n",
    "\n",
    "#error threshold\n",
    "ERROR_THRESHOLD = 0.01\n",
    "\n",
    "#assert that values in the list are close enough\n",
    "def assert_close_enough(answer_list, student_list):\n",
    "    assert type(answer_list) == list, \"`answer_list` is not a list\"\n",
    "    assert type(student_list) == list, \"`student_list` is not a list\"\n",
    "    assert len(answer_list) == len(student_list), \"the lists are not the same length\"\n",
    "    #loop through and assert values\n",
    "    for answer, student in zip(answer_list, student_list):\n",
    "        if abs(answer - student) > ERROR_THRESHOLD:\n",
    "            #the difference is above threshold\n",
    "            return False\n",
    "    return True\n",
    "\n",
    "#assert values in a list are numbers\n",
    "def assert_numbers(nums):\n",
    "    for num in nums:\n",
    "        assert isinstance(num, (int, float))\n",
    "\n",
    "#load encoded file\n",
    "def load_enc_file(filename):\n",
    "    result = None\n",
    "    with open(filename) as f:\n",
    "        filedata = f.read()\n",
    "        result = literal_eval(b64decode(filedata.encode(\"utf-8\")).decode(\"utf-8\").strip())\n",
    "    return result"
   ]
  },
  {
   "cell_type": "markdown",
   "metadata": {
    "nbgrader": {
     "grade": false,
     "locked": true,
     "solution": false
    }
   },
   "source": [
    "### Description\n",
    "When we have variation in time series data, we can use exponential smoothing to smooth out jumps in data. You have two ways to account for a change, you can say that the observed data point is a real indicator of the baseline ($S_{t}=x_{t}$). Or, you can say that today's baseline is the same as yesterday's baseline ($S_{t}=S_{t-1}$). You make this decision through the use of a tuning paramater ($\\alpha$ for $S$). You would set this tuning paramter closer to 0 if there is a lot of randomness in the system and closer to 1 if there is not much randomness in the system. For this problem you do not need to set these tuning parameters but for future reference you should know that they exist.\n",
    "\n",
    "#### The expected baseline response at time period $t$ where $\\alpha$ is the tuning parameter.\n",
    "#### $S_{t} = \\alpha{x_{t}} + (1-\\alpha)S_{t-1}$"
   ]
  },
  {
   "cell_type": "markdown",
   "metadata": {
    "nbgrader": {
     "grade": false,
     "locked": true,
     "solution": false
    }
   },
   "source": [
    "**Exercise 0** (1 point).\n",
    "\n",
    "Write a function `single_es` with the following parameters.  \n",
    "\n",
    "`x`: the current data of x. **$x_{t}$**  \n",
    "`prev_s`: the previous baseline value. **$S_{t-1}$**     \n",
    "`alpha`: the tuning paramerter for the baseline response. **$\\alpha$**  \n",
    "\n",
    "The function should return a value that corresponds to **$S_{t}$ rounded to 5 decimal places**."
   ]
  },
  {
   "cell_type": "code",
   "execution_count": null,
   "metadata": {
    "collapsed": true
   },
   "outputs": [],
   "source": [
    "def single_es(x, prev_s, alpha):\n",
    "    assert_numbers([x, prev_s, alpha])\n",
    "    #\n",
    "    # YOUR CODE HERE\n",
    "    #\n"
   ]
  },
  {
   "cell_type": "code",
   "execution_count": null,
   "metadata": {
    "collapsed": true,
    "nbgrader": {
     "grade": true,
     "grade_id": "single_es_test",
     "locked": true,
     "points": "1",
     "solution": false
    }
   },
   "outputs": [],
   "source": [
    "# Test cell: `single_es_test` (1 point)\n",
    "### Test Case 1...\n",
    "print(\"Test Case 1...\")\n",
    "input_1 = (94, 50, 0.5)\n",
    "answer_1 = 72.0\n",
    "result_1 = single_es(*input_1)\n",
    "assert assert_close_enough([answer_1], [result_1]), \"Correct Output {}, Your Output: {}\".format(answer_1, result_1)\n",
    "\n",
    "### Test Case 2...\n",
    "print(\"Test Case 2...\")\n",
    "input_2 = (19, 63, 0.3)\n",
    "answer_2 = 49.8\n",
    "result_2 = single_es(*input_2)\n",
    "assert assert_close_enough([answer_2], [result_2]), \"Correct Output {}, Your Output: {}\".format(answer_2, result_2)\n",
    "\n",
    "### Test Case 3...\n",
    "print(\"Test Case 3...\")\n",
    "input_3 = (78.3, 50.8, 0.8)\n",
    "answer_3 = 72.8\n",
    "result_3 = single_es(*input_3)\n",
    "assert assert_close_enough([answer_3], [result_3]), \"Correct Output {}, Your Output: {}\".format(answer_3, result_3)\n",
    "\n",
    "print(\"\\n(Passed!)\")"
   ]
  },
  {
   "cell_type": "markdown",
   "metadata": {
    "nbgrader": {
     "grade": false,
     "locked": true,
     "solution": false
    }
   },
   "source": [
    "### Description\n",
    "Single exponential smoothing will not work well if there is a trend in the data. In order to account for a trend, we can introduce a new term to account for a trend in the data. This is called double exponential smoothing. \n",
    "\n",
    "#### The expected baseline response at time period $t$ where $\\alpha$ is the tuning parameter.\n",
    "#### $S_{t} = \\alpha{x_{t}} + (1-\\alpha)(S_{t-1} + T_{t-1})$\n",
    "\n",
    "#### The trend at time period $t$ where $\\beta$ is the tuning parameter.\n",
    "#### $T_{t} = \\beta(S_{t} - S_{t-1}) + (1-\\beta)T_{t-1}$"
   ]
  },
  {
   "cell_type": "markdown",
   "metadata": {
    "nbgrader": {
     "grade": false,
     "locked": true,
     "solution": false
    }
   },
   "source": [
    "**Exercise 1** (2 points).\n",
    "\n",
    "Write a function `double_es` with the following parameters.  \n",
    "\n",
    "`x`: the current data of x. **$x_{t}$**  \n",
    "`prev_s`: the previous baseline value. **$S_{t-1}$**     \n",
    "`alpha`: the tuning paramerter for the baseline response. **$\\alpha$**    \n",
    "`prev_t`: the previous trend value. **$T_{t-1}$**  \n",
    "`beta`: the tuning paramerter for the trend. **$\\beta$**   \n",
    "\n",
    "The function should return a tuple of `(s, t)` that corresponds to **$S_{t}$** and **$T_{t}$ both rounded to 5 decimal places**."
   ]
  },
  {
   "cell_type": "code",
   "execution_count": null,
   "metadata": {
    "collapsed": true
   },
   "outputs": [],
   "source": [
    "def double_es(x, prev_s, alpha, prev_t, beta):\n",
    "    assert_numbers([x, prev_s, alpha, prev_t, beta])\n",
    "    #\n",
    "    # YOUR CODE HERE\n",
    "    #\n"
   ]
  },
  {
   "cell_type": "code",
   "execution_count": null,
   "metadata": {
    "collapsed": true,
    "nbgrader": {
     "grade": true,
     "grade_id": "double_es_test",
     "locked": true,
     "points": "2",
     "solution": false
    }
   },
   "outputs": [],
   "source": [
    "# Test cell: `double_es_test` (2 points)\n",
    "### Test Case 1...\n",
    "print(\"Test Case 1...\")\n",
    "input_1 = (82, 62, 0.5, 2, 0.5)\n",
    "answer_1 = (73.0, 6.5)\n",
    "result_1 = double_es(*input_1)\n",
    "assert assert_close_enough(list(answer_1), list(result_1)), \"Correct Output {}, Your Output: {}\".format(answer_1, result_1)\n",
    "\n",
    "### Test Case 2...\n",
    "print(\"Test Case 2...\")\n",
    "input_2 = (50, 43, 0.4, -7, 0.4)\n",
    "answer_2 = (41.6, -4.76)\n",
    "result_2 = double_es(*input_2)\n",
    "assert assert_close_enough(list(answer_2), list(result_2)), \"Correct Output {}, Your Output: {}\".format(answer_2, result_2)\n",
    "\n",
    "### Test Case 3...\n",
    "print(\"Test Case 3...\")\n",
    "input_3 = (57.2, 72.8, 0.8, 8.1, 0.8)\n",
    "answer_3 = (61.94, -7.07)\n",
    "result_3 = double_es(*input_3)\n",
    "assert assert_close_enough(list(answer_3), list(result_3)), \"Correct Output {}, Your Output: {}\".format(answer_3, result_3)\n",
    "\n",
    "print(\"\\n(Passed!)\")"
   ]
  },
  {
   "cell_type": "markdown",
   "metadata": {
    "nbgrader": {
     "grade": false,
     "locked": true,
     "solution": false
    }
   },
   "source": [
    "## Triple Exponential Smoothing\n",
    "\n",
    "Suppose we want to capture seasonality changes in our exponential smoothing model. What we can do is add another to the previously implemented double exponential smoothing model to account for seasonal effects. This is known as triple exponential smoothing. There are many ways to add seasonality into an exponential smoothing model, we will implement the following method for triple exponential smoothing. \n",
    "\n",
    "#### The expected baseline response at time period $t$ where $\\alpha$ is the tuning parameter.\n",
    "#### $S_{t} = \\alpha(\\frac{x_{t}}{C_{t-L}}) + (1-\\alpha)(S_{t-1} + T_{t-1})$\n",
    "\n",
    "#### The trend at time period $t$ where $\\beta$ is the tuning parameter.\n",
    "#### $T_{t} = \\beta(S_{t} - S_{t-1}) + (1-\\beta)T_{t-1}$\n",
    "\n",
    "#### The multiplicative seasonality factor for time $t$ where $\\gamma$ is the tuning parameter and $L$ is the length of a cycle.  \n",
    "#### $C_{t} = \\gamma(\\frac{x_{t}}{S_{t}}) + (1-\\gamma)C_{t-L}$"
   ]
  },
  {
   "cell_type": "markdown",
   "metadata": {
    "nbgrader": {
     "grade": false,
     "locked": true,
     "solution": false
    }
   },
   "source": [
    "**Exercise 2** (2 points). \n",
    "\n",
    "Write a function `triple_es` with the following parameters.  \n",
    "\n",
    "`x`: the current data of x. **$x_{t}$**  \n",
    "`prev_s`: the previous baseline value. **$S_{t-1}$**     \n",
    "`alpha`: the tuning paramerter for the baseline response. **$\\alpha$**    \n",
    "`prev_t`: the previous trend value. **$T_{t-1}$**  \n",
    "`beta`: the tuning paramerter for the trend. **$\\beta$**  \n",
    "`prev_c`: the $L^{th}$ previous seasonality factor. **$C_{t-L}$**  \n",
    "`gamma`: the tuning parameter for the seasonality. **$\\gamma$**    \n",
    "\n",
    "The function should return a tuple of `(s, t, c)` that corresponds to **$S_{t}$, $T_{t}$**, and **$C_{t}$ all rounded to 5 decimal places**."
   ]
  },
  {
   "cell_type": "code",
   "execution_count": null,
   "metadata": {
    "collapsed": true
   },
   "outputs": [],
   "source": [
    "def triple_es(x, prev_s, alpha, prev_t, beta, prev_c, gamma):\n",
    "    assert_numbers([x, prev_s, alpha, prev_t, beta, prev_c, gamma])\n",
    "    #\n",
    "    # YOUR CODE HERE\n",
    "    #\n"
   ]
  },
  {
   "cell_type": "code",
   "execution_count": null,
   "metadata": {
    "collapsed": true,
    "nbgrader": {
     "grade": true,
     "grade_id": "triple_es_test",
     "locked": true,
     "points": "2",
     "solution": false
    }
   },
   "outputs": [],
   "source": [
    "# Test cell: `triple_es_test` (2 points)\n",
    "### Test Case 1...\n",
    "print(\"Test Case 1...\")\n",
    "input_1 = (74, 86, 0.5, 12, 0.5, 1, 0.1)\n",
    "answer_1 = (86.0, 6.0, 0.99)\n",
    "result_1 = triple_es(*input_1)\n",
    "assert assert_close_enough(list(answer_1), list(result_1)), \"Correct Output {}, Your Output: {}\".format(answer_1, result_1)\n",
    "\n",
    "### Test Case 2...\n",
    "print(\"Test Case 2...\")\n",
    "input_2 = (85, 43, 0.4, -12, 0.4, 0.9, 0.2)\n",
    "answer_2 = (56.38, -1.85, 1.02)\n",
    "result_2 = triple_es(*input_2)\n",
    "assert assert_close_enough(list(answer_2), list(result_2)), \"Correct Output {}, Your Output: {}\".format(answer_2, result_2)\n",
    "\n",
    "### Test Case 3...\n",
    "print(\"Test Case 3...\")\n",
    "input_3 = (55.2, 48.5, 0.7, -4.1, 0.7, 1.1, 0.3)\n",
    "answer_3 = (48.45, -1.27, 1.11)\n",
    "result_3 = triple_es(*input_3)\n",
    "assert assert_close_enough(list(answer_3), list(result_3)), \"Correct Output {}, Your Output: {}\".format(answer_3, result_3)\n",
    "\n",
    "print(\"\\n(Passed!)\")"
   ]
  },
  {
   "cell_type": "markdown",
   "metadata": {
    "nbgrader": {
     "grade": false,
     "locked": true,
     "solution": false
    }
   },
   "source": [
    "## Forecasting With Triple Exponential Smoothing\n",
    "\n",
    "Now we have the baseline, trend, and seasonality components for a single time period $t$. We can now do forecasting for the next time period $t+1$. \n",
    "\n",
    "#### Forecasting for time period $t+1$.\n",
    "#### $F_{t+1} = (S_{t} + T_{t})C_{t+1-L}$"
   ]
  },
  {
   "cell_type": "markdown",
   "metadata": {
    "nbgrader": {
     "grade": false,
     "locked": true,
     "solution": false
    }
   },
   "source": [
    "**Exercise 3** (1 point). \n",
    "\n",
    "Write a function `triple_forecast` with the following parameters.  \n",
    "\n",
    "`s`: the current baseline value. **$S_{t}$**  \n",
    "`t`: the current trend value. **$T_{t}$**   \n",
    "`c`: the $L^{th}$ previous seasonality factor for time period **$t+1$**. **$C_{t+1-L}$**  \n",
    "\n",
    "The function should return the forecasted value for time period **$t+1$**, **$F_{t+1}$ rounded to 5 decimal places**."
   ]
  },
  {
   "cell_type": "code",
   "execution_count": null,
   "metadata": {
    "collapsed": true
   },
   "outputs": [],
   "source": [
    "def triple_forecast(s, t, c):\n",
    "    assert_numbers([s, t, c])\n",
    "    #\n",
    "    # YOUR CODE HERE\n",
    "    #\n"
   ]
  },
  {
   "cell_type": "code",
   "execution_count": null,
   "metadata": {
    "collapsed": true,
    "nbgrader": {
     "grade": true,
     "grade_id": "triple_forecast_test",
     "locked": true,
     "points": "1",
     "solution": false
    }
   },
   "outputs": [],
   "source": [
    "# Test cell: `triple_forecast_test` (1 point)\n",
    "### Test Case 1...\n",
    "print(\"Test Case 1...\")\n",
    "input_1 = (86.0, 6.0, 0.99)\n",
    "answer_1 = 91.08\n",
    "result_1 = triple_forecast(*input_1)\n",
    "assert assert_close_enough([answer_1], [result_1]), \"Correct Output {}, Your Output: {}\".format(answer_1, result_1)\n",
    "\n",
    "### Test Case 2...\n",
    "print(\"Test Case 2...\")\n",
    "input_2 = (56.38, -1.85, 1.02)\n",
    "answer_2 = 55.62\n",
    "result_2 = triple_forecast(*input_2)\n",
    "assert assert_close_enough([answer_2], [result_2]), \"Correct Output {}, Your Output: {}\".format(answer_2, result_2)\n",
    "\n",
    "### Test Case 3...\n",
    "print(\"Test Case 3...\")\n",
    "input_3 = (48.45, -1.27, 1.11)\n",
    "answer_3 = 52.37\n",
    "result_3 = triple_forecast(*input_3)\n",
    "assert assert_close_enough([answer_3], [result_3]), \"Correct Output {}, Your Output: {}\".format(answer_3, result_3)\n",
    "\n",
    "print(\"\\n(Passed!)\")"
   ]
  },
  {
   "cell_type": "markdown",
   "metadata": {
    "nbgrader": {
     "grade": false,
     "locked": true,
     "solution": false
    }
   },
   "source": [
    "## Forecasting With Triple Exponential Smoothing\n",
    "\n",
    "Now that we have implemented `triple_es` and `triple_forecast`. It is time to put it all together. In the next exercise you will be given a list of observations for a time series data, then you will use the triple exponential smoothing model to create forecast values for each time period based off of the previous time period.\n",
    "\n",
    "#### The initial values for this model. \n",
    "#### $S_{0} = x_{0}$\n",
    "#### $T_{0} = 0$\n",
    "#### $C_{0}, C_{1}, ..., C_{L-1} = 1$"
   ]
  },
  {
   "cell_type": "markdown",
   "metadata": {
    "nbgrader": {
     "grade": false,
     "locked": true,
     "solution": false
    }
   },
   "source": [
    "**Exercise 4** (4 points). \n",
    "\n",
    "Write a function `forecast_data` with the following parameters.  \n",
    "\n",
    "`X`: the list of n numbers that contains our data. **$X_{0}, X_{1}, ..., X_{n-1}$**  \n",
    "`alpha`: the tuning paramerter for the baseline response. **$\\alpha$**  \n",
    "`beta`: the tuning paramerter for the trend. **$\\beta$**   \n",
    "`gamma`: the tuning parameter for the seasonality. **$\\gamma$**  \n",
    "`L`: the length of the seasonality.  \n",
    "\n",
    "The function should return a tuple of `(S, T, C, forecasts)`.  \n",
    "`S` - list of baseline values for the model. **$S_{t}$** for all **$t = 0, 1, ..., n-1$**  \n",
    "`T` - list of trend values for the model. **$T_{t}$** for all **$t = 0, 1, ..., n-1$**  \n",
    "`C` - list of seasonality factors for the model. **$C_{t}$** for all **$t = 0, 1, ..., n-1$**    \n",
    "`forecasts` - the list of forecasted values from time period L to n.  \n",
    "\n",
    "**HINT 1**: When calling `triple_es` for time periods **$t = 0, 1, ..., L-1$**, you can use 1 as the `prev_c` parameter. For **$t \\geq L$** you must use **$C_{t-L}$**.  \n",
    "**HINT 2**:  `S`, `T`, and `C` should have the same length as `X`.  \n",
    "**HINT 3**:  `forecasts` will have the length of n - L. This is because the forecast function needs values for **$C_{t+1-L}$**, so it cannot create forecasts for the first L time periods.  \n"
   ]
  },
  {
   "cell_type": "code",
   "execution_count": null,
   "metadata": {
    "collapsed": true
   },
   "outputs": [],
   "source": [
    "def forecast_data(X, alpha, beta, gamma, L):\n",
    "    assert type(X) == list\n",
    "    assert_numbers(X)\n",
    "    assert_numbers([alpha, beta, gamma])\n",
    "    assert type(L) == int\n",
    "    #\n",
    "    # YOUR CODE HERE\n",
    "    #\n"
   ]
  },
  {
   "cell_type": "code",
   "execution_count": null,
   "metadata": {
    "collapsed": true,
    "nbgrader": {
     "grade": true,
     "grade_id": "forecast_data_test",
     "locked": true,
     "points": "4",
     "solution": false
    }
   },
   "outputs": [],
   "source": [
    "# Test cell: `forecast_data_test` (4 points)\n",
    "### Test Case 1...\n",
    "print(\"Test Case 1...\")\n",
    "input_1 = ([25,33,40,45,49,50,49,45,40,33,25,17,10,5,1,0,1,5,10,17], 0.7, 0.7, 0.1, 4)\n",
    "answer_1_S = [25, 30.6, 38.356, 44.98836, 49.78377, 51.53835, 50.61093, 46.74335, 41.27286, 34.16385, 25.89597, 17.40439, 9.77704, 4.11004, 0.04404, -1.40868, -0.453, 3.28961, 3.97883, 14.8702]\n",
    "answer_1_T = [0, 3.92, 6.6052, 6.62421, 5.34405, 2.83142, 0.20023, -2.64724, -4.62351, -6.36336, -7.69652, -8.25306, -7.81506, -6.31142, -4.73963, -2.43879, -0.06266, 2.60103, 1.26277, 8.00279]\n",
    "answer_1_C = [1, 1, 1, 1, 0.99843, 0.99702, 0.99682, 0.99627, 0.9955, 0.99391, 0.99368, 0.99432, 0.99823, 1.01617, 3.16507, 0.89489, 0.67766, 1.06655, 3.09989, 0.91972]\n",
    "answer_1_forecasts = [55.12782, 54.36977, 50.81116, 44.02688, 36.54013, 27.71208, 18.13157, 9.11015, 1.95003, -2.18747, -4.66892, -3.84066, -0.524, 18.64429, 4.69066, 15.50011]\n",
    "S, T, C, forecasts = forecast_data(*input_1)\n",
    "assert assert_close_enough(answer_1_S, list(S)), \"Correct Output {}, Your Output: {}\".format(answer_1_S, S)\n",
    "assert assert_close_enough(answer_1_T, list(T)), \"Correct Output {}, Your Output: {}\".format(answer_1_T, T)\n",
    "assert assert_close_enough(answer_1_C, list(C)), \"Correct Output {}, Your Output: {}\".format(answer_1_C, C)\n",
    "assert assert_close_enough(answer_1_forecasts, list(forecasts)), \"Correct Output {}, Your Output: {}\".format(answer_1_forecasts, forecasts)\n",
    "\n",
    "### Don't worry about the encoded values. We did this to save space on typing in the acutal numbers in the test cell.\n",
    "\n",
    "### Test Case 2...\n",
    "print(\"Test Case 2...\")\n",
    "input_2 = pd.read_csv(\"../resource/asnlib/public/test2.csv\", header=None)[0].tolist()\n",
    "answer_2 = load_enc_file(\"../resource/asnlib/public/test2enc.txt\")\n",
    "result_2 = forecast_data(input_2, 0.5, 0.5, 0.5, 5)\n",
    "for answer, result in zip(answer_2, result_2):\n",
    "    assert assert_close_enough(answer, list(result)), \"Your answer is incorrect\"\n",
    "\n",
    "### Test Case 3...\n",
    "print(\"Test Case 3...\")\n",
    "input_3 = pd.read_csv(\"../resource/asnlib/public/test3.csv\", header=None)[0].tolist()\n",
    "result_3 = forecast_data(input_3, 0.5, 0.5, 0.5, 15)\n",
    "answer_3 = load_enc_file(\"../resource/asnlib/public/test3enc.txt\")\n",
    "result_3 = forecast_data(input_3, 0.5, 0.5, 0.5, 15)\n",
    "for answer, result in zip(answer_3, result_3):\n",
    "    assert assert_close_enough(answer, list(result)), \"Your answer is incorrect\"\n",
    "\n",
    "print(\"\\n(Passed!)\")"
   ]
  },
  {
   "cell_type": "markdown",
   "metadata": {
    "nbgrader": {
     "grade": false,
     "locked": true,
     "solution": false
    }
   },
   "source": [
    "### Using Triple Exponential Smoothing On Temperature Data\n",
    "\n",
    "Here we will use the `forecast_data` you created and attempt to model daily highest temperature in Atlanta, GA from the dates of 2017-01-01 to 2018-12-30. This is not an exercise, this is just a demonstration of how the exponential smoothing that you implemented behaves on real world data.  \n",
    "\n"
   ]
  },
  {
   "cell_type": "code",
   "execution_count": null,
   "metadata": {
    "collapsed": true,
    "nbgrader": {
     "grade": false,
     "locked": true,
     "solution": false
    }
   },
   "outputs": [],
   "source": [
    "import pandas as pd\n",
    "from matplotlib import pyplot as plt\n",
    "from matplotlib import dates as pltdts\n",
    "#loading dataframe\n",
    "df = pd.read_csv(\"../resource/asnlib/public/temps.csv\", index_col=\"DATE\")\n",
    "df.index = pd.to_datetime(df.index, format=\"%m/%d/%Y\")"
   ]
  },
  {
   "cell_type": "code",
   "execution_count": null,
   "metadata": {
    "collapsed": true,
    "nbgrader": {
     "grade": false,
     "locked": true,
     "solution": false
    }
   },
   "outputs": [],
   "source": [
    "#get the model values\n",
    "S, T, C, forecasts = forecast_data(df[\"TMAX\"].tolist(), 0.5, 0.5, 0.5, 365)\n",
    "forecasts_df = pd.DataFrame(index=df.index.values[365: ])\n",
    "forecasts_df[\"FORECASTS\"] = forecasts"
   ]
  },
  {
   "cell_type": "code",
   "execution_count": null,
   "metadata": {
    "collapsed": true,
    "nbgrader": {
     "grade": false,
     "locked": true,
     "solution": false
    }
   },
   "outputs": [],
   "source": [
    "#create the plots\n",
    "plt.clf()\n",
    "ax = df[\"TMAX\"].plot(title=\"Atlanta Daily High Temperature\", figsize=(15, 5), label=\"Historical High Temperature\", legend=True)\n",
    "ax = forecasts_df[\"FORECASTS\"].plot(label=\"Forecasted High Temperature\", ax=ax) \n",
    "ax.set_xlabel(\"Days\")\n",
    "ax.set_ylabel(\"Temperature\")\n",
    "ax.legend()\n",
    "plt.show()"
   ]
  },
  {
   "cell_type": "markdown",
   "metadata": {
    "nbgrader": {
     "grade": false,
     "locked": true,
     "solution": false
    }
   },
   "source": [
    "As you can see from the plot above, the forecasted high temperature is is fairly close to the historical high temperature that it is attempting to forecast for. The curve for the forcasted values is also smoother than the historaical values. But as with most time series data, the forecast range is fairly short.\n",
    "\n",
    "Feel free to follow the example for creating the plot and play around with the tuning parameters to see how they affect the forecasted value.... After you are complete with the exam. =)"
   ]
  },
  {
   "cell_type": "markdown",
   "metadata": {
    "nbgrader": {
     "grade": false,
     "locked": true,
     "solution": false
    }
   },
   "source": [
    "**Fin!** You've reached the end of this problem. Don't forget to restart the kernel and run the entire notebook from top-to-bottom to make sure you did everything correctly. If that is working, try submitting this problem. (Recall that you must submit and pass the autograder to get credit for your work!)"
   ]
  }
 ],
 "metadata": {
  "kernelspec": {
   "display_name": "Python 2",
   "language": "python",
   "name": "python2"
  },
  "language_info": {
   "codemirror_mode": {
    "name": "ipython",
    "version": 2
   },
   "file_extension": ".py",
   "mimetype": "text/x-python",
   "name": "python",
   "nbconvert_exporter": "python",
   "pygments_lexer": "ipython2",
   "version": "2.7.15"
  }
 },
 "nbformat": 4,
 "nbformat_minor": 2
}
