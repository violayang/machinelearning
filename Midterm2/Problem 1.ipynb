{
 "cells": [
  {
   "cell_type": "code",
   "execution_count": 1,
   "metadata": {
    "deletable": false,
    "editable": false,
    "nbgrader": {
     "grade": false,
     "locked": true,
     "solution": false
    }
   },
   "outputs": [
    {
     "ename": "ImportError",
     "evalue": "No module named helpers",
     "output_type": "error",
     "traceback": [
      "\u001b[0;31m---------------------------------------------------------------------------\u001b[0m",
      "\u001b[0;31mImportError\u001b[0m                               Traceback (most recent call last)",
      "\u001b[0;32m<ipython-input-1-6fd156253ff7>\u001b[0m in \u001b[0;36m<module>\u001b[0;34m()\u001b[0m\n\u001b[1;32m      3\u001b[0m \u001b[0;32mimport\u001b[0m \u001b[0mseaborn\u001b[0m \u001b[0;32mas\u001b[0m \u001b[0msns\u001b[0m\u001b[0;34m\u001b[0m\u001b[0m\n\u001b[1;32m      4\u001b[0m \u001b[0;32mfrom\u001b[0m \u001b[0msklearn\u001b[0m\u001b[0;34m.\u001b[0m\u001b[0mdatasets\u001b[0m \u001b[0;32mimport\u001b[0m \u001b[0mmake_circles\u001b[0m\u001b[0;34m,\u001b[0m \u001b[0mmake_moons\u001b[0m\u001b[0;34m\u001b[0m\u001b[0m\n\u001b[0;32m----> 5\u001b[0;31m \u001b[0;32mfrom\u001b[0m \u001b[0mhelpers\u001b[0m \u001b[0;32mimport\u001b[0m \u001b[0;34m*\u001b[0m\u001b[0;34m\u001b[0m\u001b[0m\n\u001b[0m",
      "\u001b[0;31mImportError\u001b[0m: No module named helpers"
     ]
    }
   ],
   "source": [
    "import numpy as np\n",
    "import matplotlib.pyplot as plt\n",
    "import seaborn as sns\n",
    "from sklearn.datasets import make_circles, make_moons\n",
    "from helpers import *"
   ]
  },
  {
   "cell_type": "code",
   "execution_count": 2,
   "metadata": {
    "nbgrader": {
     "grade": false,
     "locked": false,
     "solution": false
    }
   },
   "outputs": [
    {
     "ename": "NameError",
     "evalue": "name 'make_data' is not defined",
     "output_type": "error",
     "traceback": [
      "\u001b[0;31m---------------------------------------------------------------------------\u001b[0m",
      "\u001b[0;31mNameError\u001b[0m                                 Traceback (most recent call last)",
      "\u001b[0;32m<ipython-input-2-1df713a0c4b0>\u001b[0m in \u001b[0;36m<module>\u001b[0;34m()\u001b[0m\n\u001b[1;32m      2\u001b[0m \u001b[0mn\u001b[0m \u001b[0;34m=\u001b[0m \u001b[0;36m500\u001b[0m\u001b[0;34m\u001b[0m\u001b[0m\n\u001b[1;32m      3\u001b[0m \u001b[0;34m\u001b[0m\u001b[0m\n\u001b[0;32m----> 4\u001b[0;31m \u001b[0mdata\u001b[0m\u001b[0;34m,\u001b[0m \u001b[0mcenters\u001b[0m \u001b[0;34m=\u001b[0m \u001b[0mmake_data\u001b[0m\u001b[0;34m(\u001b[0m\u001b[0md\u001b[0m\u001b[0;34m,\u001b[0m \u001b[0mn\u001b[0m\u001b[0;34m,\u001b[0m \u001b[0;36m3\u001b[0m\u001b[0;34m)\u001b[0m\u001b[0;34m\u001b[0m\u001b[0m\n\u001b[0m",
      "\u001b[0;31mNameError\u001b[0m: name 'make_data' is not defined"
     ]
    }
   ],
   "source": [
    "d = 2\n",
    "n = 500\n",
    "\n",
    "data, centers = make_data(d, n, 3)"
   ]
  },
  {
   "cell_type": "markdown",
   "metadata": {
    "deletable": false,
    "editable": false,
    "nbgrader": {
     "grade": false,
     "locked": true,
     "solution": false
    }
   },
   "source": [
    "# Visualization application on Clustering\n",
    "This problem has 4 exercises, numbered 0 through 3, and is worth a total of ten points. Exercise 3 depends on exercise 2, but exercises 0 and 1\n",
    "are independent. ***The test cells are hidden but one test case is provided for debugging purposes.***\n",
    "\n",
    "In this problem, we are going to work with data points on 2D plane (for visualization purposes), we will:\n",
    "\n",
    "1. Use K-Means algorithm to cluster them into $K$ clusters.\n",
    "2. Use kernel density estimation (KDE) to fit data in a non-parametric fashion."
   ]
  },
  {
   "cell_type": "code",
   "execution_count": null,
   "metadata": {
    "collapsed": true,
    "deletable": false,
    "editable": false,
    "nbgrader": {
     "grade": false,
     "locked": true,
     "solution": false
    }
   },
   "outputs": [],
   "source": [
    "plt.scatter(data[:, 0], data[:, 1])"
   ]
  },
  {
   "cell_type": "markdown",
   "metadata": {
    "deletable": false,
    "editable": false,
    "nbgrader": {
     "grade": false,
     "locked": true,
     "solution": false
    }
   },
   "source": [
    "What do we mean by clustering? We aim to partition all points into $K$ classes $C_1, C_2, \\cdots, C_K$ and find $K$ centers $\\mu_1, \\mu_2, \\cdots, \\mu_k$, such that\n",
    "\n",
    "$$\\sum_{k}\\sum_{i} r_{ik} \\|x_i - \\mu_k\\|^2$$\n",
    "\n",
    "where $r_{ik}$ is the indicator of where $x_i$ is in class $C_k$.\n",
    "\n",
    "## K-Means Clustering\n",
    "\n",
    "Given $K$, K-Means algorithm works as follows,\n",
    "\n",
    "1. Randomly initialize $K$ centers $\\mu_1, \\mu_2, \\cdots, \\mu_k$\n",
    "2. Iteratively assign each $x_i$ to its nearest center $\\mu_k$, and then reestimate $\\mu_k$ based on assignment until converge."
   ]
  },
  {
   "cell_type": "markdown",
   "metadata": {
    "deletable": false,
    "editable": false,
    "nbgrader": {
     "grade": false,
     "locked": true,
     "solution": false
    }
   },
   "source": [
    "**Exercise 0:** First, we will implement the `assign` function, which assigns data points to its nearest center. For example, suppose `data = [[101, 0], [99,1], [-100,2]], mu = [[100,0], [-100, 0]]`, then you would expect to return `membership = [0, 0, 1]`. If there are multiple centers that are equidistant to a point, pick the center with the lowest index, i.e., the first center in mu that is nearest to the point. (3 points) "
   ]
  },
  {
   "cell_type": "code",
   "execution_count": null,
   "metadata": {
    "collapsed": true
   },
   "outputs": [],
   "source": [
    "def assign(data, mu):\n",
    "    # data: (N, 2) numpy.array\n",
    "    # mu: (K, 2) numpy.array\n",
    "    # return: (N,) numpy.array indicating class membership of each data point\n",
    "    \n",
    "    \n",
    "    membership = np.zeros(len(data))\n",
    "    ###\n",
    "    ### YOUR CODE HERE\n",
    "    ###\n",
    "    import pandas as pd\n",
    "    df = pd.DataFrame({'x': data[:,0], 'y': data[:,1]})\n",
    "    \n",
    "    center=0\n",
    "    for i in mu:\n",
    "        df['{}'.format(center)] = np.sqrt((df['x'] - i[0])**2 + (df['y'] - i[1])**2)\n",
    "        center+=1\n",
    "    \n",
    "    df['closet'] = df.iloc[:,2:].idxmin(axis=1)\n",
    "    df['closet'] = df['closet'].astype(dtype = int)\n",
    "    \n",
    "    membership = np.array(df['closet'])\n",
    "    \n",
    "    \n",
    "    return membership"
   ]
  },
  {
   "cell_type": "code",
   "execution_count": null,
   "metadata": {
    "collapsed": true,
    "deletable": false,
    "editable": false,
    "nbgrader": {
     "grade": false,
     "locked": true,
     "solution": false
    }
   },
   "outputs": [],
   "source": [
    "### Test Cell for Debugging\n",
    "data1, centers1 = make_data(d, n, 3)\n",
    "student_membership = assign(data1, centers1)\n",
    "test_assign(data1, centers1, student_membership)"
   ]
  },
  {
   "cell_type": "code",
   "execution_count": null,
   "metadata": {
    "collapsed": true,
    "deletable": false,
    "editable": false,
    "nbgrader": {
     "grade": true,
     "grade_id": "assign_test",
     "locked": true,
     "points": "3",
     "solution": false
    }
   },
   "outputs": [],
   "source": [
    "###\n",
    "### AUTOGRADER TEST - DO NOT REMOVE\n",
    "###\n"
   ]
  },
  {
   "cell_type": "markdown",
   "metadata": {
    "deletable": false,
    "editable": false,
    "nbgrader": {
     "grade": false,
     "locked": true,
     "solution": false
    }
   },
   "source": [
    "Next we implement `re_estimate` function. For each class $C_k$, we reestimate its center as \n",
    "$$\\mu_k \\gets \\frac{1}{\\sum_{i=1}^N r_{ik}} \\sum_{i}r_{ik}x_i$$"
   ]
  },
  {
   "cell_type": "markdown",
   "metadata": {
    "deletable": false,
    "editable": false,
    "nbgrader": {
     "grade": false,
     "locked": true,
     "solution": false
    }
   },
   "source": [
    "**Exercise 1:** The function should return an array where each element gives the 2-D coordinates for the center of the respective class (3 points)"
   ]
  },
  {
   "cell_type": "code",
   "execution_count": null,
   "metadata": {
    "collapsed": true
   },
   "outputs": [],
   "source": [
    "def re_estimate(data, membership):\n",
    "     # data: (N, 2) numpy.array\n",
    "     # membership: (N,) numpy.array indicating class membership of each data point   \n",
    "     # mu: (K, 2) numpy.array\n",
    "             \n",
    "    mu = None\n",
    "    ###\n",
    "    ### YOUR CODE HERE\n",
    "    ###\n",
    "    return mu"
   ]
  },
  {
   "cell_type": "code",
   "execution_count": null,
   "metadata": {
    "collapsed": true,
    "deletable": false,
    "editable": false,
    "nbgrader": {
     "grade": false,
     "locked": true,
     "solution": false
    }
   },
   "outputs": [],
   "source": [
    "### Test Cell for Debugging\n",
    "\n",
    "data1, centers1 = make_data(d, n, 3)\n",
    "membership1 = inst_assign(data1, centers1)\n",
    "student_mu = re_estimate(data1, membership1)\n",
    "test_re_estimate(data1, membership1, student_mu)\n"
   ]
  },
  {
   "cell_type": "code",
   "execution_count": null,
   "metadata": {
    "collapsed": true,
    "deletable": false,
    "editable": false,
    "nbgrader": {
     "grade": true,
     "grade_id": "re_estimate_test",
     "locked": true,
     "points": "3",
     "solution": false
    }
   },
   "outputs": [],
   "source": [
    "###\n",
    "### AUTOGRADER TEST - DO NOT REMOVE\n",
    "###\n"
   ]
  },
  {
   "cell_type": "markdown",
   "metadata": {
    "deletable": false,
    "editable": false,
    "nbgrader": {
     "grade": false,
     "locked": true,
     "solution": false
    }
   },
   "source": [
    "Let's put the pieces together and see how well it works."
   ]
  },
  {
   "cell_type": "code",
   "execution_count": null,
   "metadata": {
    "collapsed": true,
    "deletable": false,
    "editable": false,
    "nbgrader": {
     "grade": false,
     "locked": true,
     "solution": false
    }
   },
   "outputs": [],
   "source": [
    "K = 3\n",
    "mu = centers + 0.5 * np.random.randn(K, d)\n",
    "max_iter = 20\n",
    "\n",
    "for it in range(max_iter):\n",
    "    membership = assign(data, mu)\n",
    "    mu = re_estimate(data, membership)\n",
    "    \n",
    "for k in range(K):\n",
    "    mask = membership == k\n",
    "    x, y = data[mask, 0], data[mask, 1]\n",
    "    plt.scatter(x, y, label='class {}'.format(k))\n",
    "\n",
    "plt.legend()"
   ]
  },
  {
   "cell_type": "markdown",
   "metadata": {
    "deletable": false,
    "editable": false,
    "nbgrader": {
     "grade": false,
     "locked": true,
     "solution": false
    }
   },
   "source": [
    "## Kernel Density Estimation\n",
    "\n",
    "We turn our attention to another question, what is the probability distribution of data? A powerful method is kernel density estimation (KDE). The probability density function is given by\n",
    "$$ f(x) = \\sum_{i=1}^N \\frac{1}{N}K(\\frac{x-x_i}{h})$$\n",
    "where $K(z)=\\frac{1}{\\sqrt{2\\pi}} \\exp(-\\frac{\\|z\\|^2}{2})$ is a kernel function and $\\|z\\|^2$ is the squared [euclidean norm](https://en.wikipedia.org/wiki/Norm_(mathematics)). \n",
    "**Hint:** You can use [numpy.linalg.norm](https://docs.scipy.org/doc/numpy/reference/generated/numpy.linalg.norm.html)"
   ]
  },
  {
   "cell_type": "markdown",
   "metadata": {
    "deletable": false,
    "editable": false,
    "nbgrader": {
     "grade": false,
     "locked": true,
     "solution": false
    }
   },
   "source": [
    "**Exercise 2** Implement K(z) based on the above kernel function. Return a numpy array with shape (500,)（2 points)"
   ]
  },
  {
   "cell_type": "code",
   "execution_count": null,
   "metadata": {
    "collapsed": true,
    "nbgrader": {
     "grade": false,
     "locked": false,
     "solution": false
    }
   },
   "outputs": [],
   "source": [
    "def kernel(z):\n",
    "    # z: (N, 2) numpy.array\n",
    "    # returns (N, 1) numpy.array\n",
    "    \n",
    "    ###\n",
    "    ### YOUR CODE HERE\n",
    "    ###\n"
   ]
  },
  {
   "cell_type": "code",
   "execution_count": null,
   "metadata": {
    "deletable": false,
    "editable": false,
    "nbgrader": {
     "grade": false,
     "locked": true,
     "solution": false
    }
   },
   "outputs": [],
   "source": [
    "### Test Cell for Debugging\n",
    "data1, centers1 = make_data(d, n, 3)\n",
    "student_kernel = kernel(data1)\n",
    "test_kernel(data1, student_kernel)"
   ]
  },
  {
   "cell_type": "code",
   "execution_count": null,
   "metadata": {
    "collapsed": true,
    "deletable": false,
    "editable": false,
    "nbgrader": {
     "grade": true,
     "grade_id": "kernel_test",
     "locked": true,
     "points": "2",
     "solution": false
    }
   },
   "outputs": [],
   "source": [
    "###\n",
    "### AUTOGRADER TEST - DO NOT REMOVE\n",
    "###\n"
   ]
  },
  {
   "cell_type": "markdown",
   "metadata": {
    "deletable": false,
    "editable": false,
    "nbgrader": {
     "grade": false,
     "locked": true,
     "solution": false
    }
   },
   "source": [
    "** Exercise 3 ** Based on the KDE function: $$ f(x) = \\sum_{i=1}^N \\frac{1}{N}K(\\frac{x-x_i}{h})$$ \n",
    "Compute the probablity density at `[0,0]`, i.e., $f((0,0))$. This should return a **scalar** value. (2 points）"
   ]
  },
  {
   "cell_type": "code",
   "execution_count": null,
   "metadata": {
    "collapsed": true
   },
   "outputs": [],
   "source": [
    "def compute(data, h):\n",
    "    ###\n",
    "    ### YOUR CODE HERE\n",
    "    ###\n"
   ]
  },
  {
   "cell_type": "code",
   "execution_count": null,
   "metadata": {
    "collapsed": true,
    "deletable": false,
    "editable": false,
    "nbgrader": {
     "grade": false,
     "locked": true,
     "solution": false
    }
   },
   "outputs": [],
   "source": [
    "### Test Cell for Debugging\n",
    "\n",
    "data1, centers1 = make_data(d, n, 3)\n",
    "student_compute = compute(data1, h=1)\n",
    "test_compute(data1, student_compute, 1)"
   ]
  },
  {
   "cell_type": "code",
   "execution_count": null,
   "metadata": {
    "collapsed": true,
    "deletable": false,
    "editable": false,
    "nbgrader": {
     "grade": true,
     "grade_id": "compute_test",
     "locked": true,
     "points": "2",
     "solution": false
    }
   },
   "outputs": [],
   "source": [
    "###\n",
    "### AUTOGRADER TEST - DO NOT REMOVE\n",
    "###\n"
   ]
  },
  {
   "cell_type": "markdown",
   "metadata": {
    "deletable": false,
    "editable": false,
    "nbgrader": {
     "grade": false,
     "locked": true,
     "solution": false
    }
   },
   "source": [
    "Finally, use the nice visualization library `seaborn` in Python to visualize the kernel density estimation."
   ]
  },
  {
   "cell_type": "code",
   "execution_count": null,
   "metadata": {
    "collapsed": true,
    "deletable": false,
    "editable": false,
    "nbgrader": {
     "grade": false,
     "locked": true,
     "solution": false
    }
   },
   "outputs": [],
   "source": [
    "sns.set_style(\"darkgrid\")\n",
    "colors = ['Reds', 'Blues', 'Greens']\n",
    "\n",
    "for k in range(K):\n",
    "    mask = membership == k\n",
    "    x, y = data[mask, 0], data[mask, 1]\n",
    "    sns.kdeplot(x, y,\n",
    "                cmap=colors[k], shade=True, shade_lowest=False)"
   ]
  },
  {
   "cell_type": "markdown",
   "metadata": {
    "collapsed": true
   },
   "source": [
    "**Fin!** You've reached the end of this problem. Don't forget to restart the\n",
    "kernel and run the entire notebook from top-to-bottom to make sure you did\n",
    "everything correctly. If that is working, try submitting this problem. (Recall\n",
    "that you *must* submit and pass the autograder to get credit for your work!)"
   ]
  },
  {
   "cell_type": "code",
   "execution_count": null,
   "metadata": {
    "collapsed": true
   },
   "outputs": [],
   "source": []
  }
 ],
 "metadata": {
  "kernelspec": {
   "display_name": "Python 2",
   "language": "python",
   "name": "python2"
  },
  "language_info": {
   "codemirror_mode": {
    "name": "ipython",
    "version": 2
   },
   "file_extension": ".py",
   "mimetype": "text/x-python",
   "name": "python",
   "nbconvert_exporter": "python",
   "pygments_lexer": "ipython2",
   "version": "2.7.15"
  }
 },
 "nbformat": 4,
 "nbformat_minor": 2
}
