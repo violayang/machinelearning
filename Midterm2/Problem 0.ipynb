{
 "cells": [
  {
   "cell_type": "markdown",
   "metadata": {
    "deletable": false,
    "editable": false,
    "nbgrader": {
     "grade": false,
     "locked": true,
     "solution": false
    }
   },
   "source": [
    "# Problem 1\n",
    "\n",
    "## Using pandas to answer a question from the US government College Scorecard\n",
    "\n",
    "It is common for colleges in the United States to charge different tuition and fees for those students who are state residents versus \"out-of-state\" students.\n",
    "\n",
    "https://www.collegexpress.com/interests/public-colleges-and-universities/blog/what-you-need-know-about-out-state-tuition/\n",
    "\n",
    "The US government has assembled a database of college information called the \"College Scorecard.\"\n",
    "\n",
    "Using the College Scorecard data, you will answer the question:\n",
    "\n",
    "> How do US colleges and universities which offer bachelor's degrees in engineering compare in their treatment of in-state and out-of-state tuition and fees?"
   ]
  },
  {
   "cell_type": "markdown",
   "metadata": {
    "deletable": false,
    "editable": false,
    "nbgrader": {
     "grade": false,
     "locked": true,
     "solution": false
    }
   },
   "source": [
    "## Final product\n",
    "\n",
    "Your final product will be a pandas dataframe of college names sorted in descending order by the percent difference between in-state and out-of-state tuition\n",
    "\n",
    "## Raw data sources\n",
    "\n",
    "Your \"raw\" data sources are both from https://collegescorecard.ed.gov, with some modifications to optimize the data for this midterm:\n",
    "\n",
    "1. a copy of the \"Most-Recent-Cohorts-All-Data-Elements.csv\" downloaded 2019-03-05T21:30Z\n",
    "2. a slightly massaged version of the \"CollegeScorecardDataDictionary.xlsx\" that has been converted to a tab-delimited text file and reshaped for this midterm question\n",
    "\n",
    "### Most-Recent-Cohorts-All-Data-Elements.csv\n",
    "\n",
    "This ~140MB file has the data you need to produce your final product. \n",
    "\n",
    "Unfortunately, it has\n",
    "\n",
    "1. a lot MORE than you need, \n",
    "2. column labels that are not human-readable, and\n",
    "3. a lot of missing data in the form of either \"NULL\" entries or \"PrivacySuppressed\" entries\n",
    "\n",
    "### CollegeScorecardDataDictionary_wide.txt\n",
    "\n",
    "To help you decipher the contents of the data file, the \"Data Dictionary\" is provided. This is __NOT__ a python dictionary. Rather, it is a tab-delimited table that describes the column labels in the data file, as well as a \"decoder ring\" for the numeric codes used in some of the data columns.\n",
    "\n",
    "Unfortunately, it has\n",
    "\n",
    "1. a lot MORE information than you need,\n",
    "2. \"decoder ring\" information is stored in a very inconvenient and inefficient \"wide\" format"
   ]
  },
  {
   "cell_type": "code",
   "execution_count": 1,
   "metadata": {
    "deletable": false,
    "editable": false,
    "nbgrader": {
     "grade": false,
     "locked": true,
     "solution": false
    }
   },
   "outputs": [],
   "source": [
    "import pandas as pd\n",
    "import ast\n",
    "import os\n",
    "import csv\n",
    "\n",
    "# Ignore this line. It will be used later.\n",
    "SAVE_ASSIGN = getattr(pd.DataFrame, 'assign')"
   ]
  },
  {
   "cell_type": "markdown",
   "metadata": {
    "deletable": false,
    "editable": false,
    "nbgrader": {
     "grade": false,
     "locked": true,
     "solution": false
    }
   },
   "source": [
    "#### Exercise 1 (1 point)\n",
    "\n",
    "Given the filename, write a function to import the \"data dictionary\" tab-delimited file into a pandas dataframe."
   ]
  },
  {
   "cell_type": "code",
   "execution_count": 2,
   "metadata": {
    "collapsed": true
   },
   "outputs": [],
   "source": [
    "def tab_import(fname):\n",
    "    #\n",
    "    ###\n",
    "    ### YOUR CODE HERE\n",
    "    ###\n",
    "    #\n",
    "    \n",
    "    \n",
    "    return df"
   ]
  },
  {
   "cell_type": "code",
   "execution_count": 3,
   "metadata": {
    "deletable": false,
    "editable": false,
    "nbgrader": {
     "grade": true,
     "grade_id": "tab_import_test",
     "locked": true,
     "points": "1",
     "solution": false
    }
   },
   "outputs": [
    {
     "data": {
      "text/html": [
       "<div>\n",
       "<style scoped>\n",
       "    .dataframe tbody tr th:only-of-type {\n",
       "        vertical-align: middle;\n",
       "    }\n",
       "\n",
       "    .dataframe tbody tr th {\n",
       "        vertical-align: top;\n",
       "    }\n",
       "\n",
       "    .dataframe thead th {\n",
       "        text-align: right;\n",
       "    }\n",
       "</style>\n",
       "<table border=\"1\" class=\"dataframe\">\n",
       "  <thead>\n",
       "    <tr style=\"text-align: right;\">\n",
       "      <th></th>\n",
       "      <th>NAME OF DATA ELEMENT</th>\n",
       "      <th>dev-category</th>\n",
       "      <th>developer-friendly name</th>\n",
       "      <th>API data type</th>\n",
       "      <th>VARIABLE NAME</th>\n",
       "      <th>-2</th>\n",
       "      <th>-1</th>\n",
       "      <th>0</th>\n",
       "      <th>1</th>\n",
       "      <th>2</th>\n",
       "      <th>...</th>\n",
       "      <th>98</th>\n",
       "      <th>99</th>\n",
       "      <th>100</th>\n",
       "      <th>101</th>\n",
       "      <th>102</th>\n",
       "      <th>103</th>\n",
       "      <th>104</th>\n",
       "      <th>105</th>\n",
       "      <th>106</th>\n",
       "      <th>107</th>\n",
       "    </tr>\n",
       "  </thead>\n",
       "  <tbody>\n",
       "    <tr>\n",
       "      <th>0</th>\n",
       "      <td>Flag for Asian American Native American Pacifi...</td>\n",
       "      <td>school</td>\n",
       "      <td>minority_serving.aanipi</td>\n",
       "      <td>integer</td>\n",
       "      <td>AANAPII</td>\n",
       "      <td>NaN</td>\n",
       "      <td>NaN</td>\n",
       "      <td>No</td>\n",
       "      <td>Yes</td>\n",
       "      <td>NaN</td>\n",
       "      <td>...</td>\n",
       "      <td>NaN</td>\n",
       "      <td>NaN</td>\n",
       "      <td>NaN</td>\n",
       "      <td>NaN</td>\n",
       "      <td>NaN</td>\n",
       "      <td>NaN</td>\n",
       "      <td>NaN</td>\n",
       "      <td>NaN</td>\n",
       "      <td>NaN</td>\n",
       "      <td>NaN</td>\n",
       "    </tr>\n",
       "    <tr>\n",
       "      <th>1</th>\n",
       "      <td>Accreditor for institution</td>\n",
       "      <td>school</td>\n",
       "      <td>accreditor</td>\n",
       "      <td>string</td>\n",
       "      <td>ACCREDAGENCY</td>\n",
       "      <td>NaN</td>\n",
       "      <td>NaN</td>\n",
       "      <td>NaN</td>\n",
       "      <td>NaN</td>\n",
       "      <td>NaN</td>\n",
       "      <td>...</td>\n",
       "      <td>NaN</td>\n",
       "      <td>NaN</td>\n",
       "      <td>NaN</td>\n",
       "      <td>NaN</td>\n",
       "      <td>NaN</td>\n",
       "      <td>NaN</td>\n",
       "      <td>NaN</td>\n",
       "      <td>NaN</td>\n",
       "      <td>NaN</td>\n",
       "      <td>NaN</td>\n",
       "    </tr>\n",
       "    <tr>\n",
       "      <th>2</th>\n",
       "      <td>Code corresponding to accreditor (as captured ...</td>\n",
       "      <td>school</td>\n",
       "      <td>accreditor_code</td>\n",
       "      <td>string</td>\n",
       "      <td>ACCREDCODE</td>\n",
       "      <td>NaN</td>\n",
       "      <td>NaN</td>\n",
       "      <td>NaN</td>\n",
       "      <td>NaN</td>\n",
       "      <td>NaN</td>\n",
       "      <td>...</td>\n",
       "      <td>NaN</td>\n",
       "      <td>NaN</td>\n",
       "      <td>NaN</td>\n",
       "      <td>NaN</td>\n",
       "      <td>NaN</td>\n",
       "      <td>NaN</td>\n",
       "      <td>NaN</td>\n",
       "      <td>NaN</td>\n",
       "      <td>NaN</td>\n",
       "      <td>NaN</td>\n",
       "    </tr>\n",
       "    <tr>\n",
       "      <th>3</th>\n",
       "      <td>25th percentile of the ACT cumulative score</td>\n",
       "      <td>admissions</td>\n",
       "      <td>act_scores.25th_percentile.cumulative</td>\n",
       "      <td>float</td>\n",
       "      <td>ACTCM25</td>\n",
       "      <td>NaN</td>\n",
       "      <td>NaN</td>\n",
       "      <td>NaN</td>\n",
       "      <td>NaN</td>\n",
       "      <td>NaN</td>\n",
       "      <td>...</td>\n",
       "      <td>NaN</td>\n",
       "      <td>NaN</td>\n",
       "      <td>NaN</td>\n",
       "      <td>NaN</td>\n",
       "      <td>NaN</td>\n",
       "      <td>NaN</td>\n",
       "      <td>NaN</td>\n",
       "      <td>NaN</td>\n",
       "      <td>NaN</td>\n",
       "      <td>NaN</td>\n",
       "    </tr>\n",
       "    <tr>\n",
       "      <th>4</th>\n",
       "      <td>75th percentile of the ACT cumulative score</td>\n",
       "      <td>admissions</td>\n",
       "      <td>act_scores.75th_percentile.cumulative</td>\n",
       "      <td>float</td>\n",
       "      <td>ACTCM75</td>\n",
       "      <td>NaN</td>\n",
       "      <td>NaN</td>\n",
       "      <td>NaN</td>\n",
       "      <td>NaN</td>\n",
       "      <td>NaN</td>\n",
       "      <td>...</td>\n",
       "      <td>NaN</td>\n",
       "      <td>NaN</td>\n",
       "      <td>NaN</td>\n",
       "      <td>NaN</td>\n",
       "      <td>NaN</td>\n",
       "      <td>NaN</td>\n",
       "      <td>NaN</td>\n",
       "      <td>NaN</td>\n",
       "      <td>NaN</td>\n",
       "      <td>NaN</td>\n",
       "    </tr>\n",
       "  </tbody>\n",
       "</table>\n",
       "<p>5 rows × 115 columns</p>\n",
       "</div>"
      ],
      "text/plain": [
       "                                NAME OF DATA ELEMENT dev-category  \\\n",
       "0  Flag for Asian American Native American Pacifi...       school   \n",
       "1                         Accreditor for institution       school   \n",
       "2  Code corresponding to accreditor (as captured ...       school   \n",
       "3        25th percentile of the ACT cumulative score   admissions   \n",
       "4        75th percentile of the ACT cumulative score   admissions   \n",
       "\n",
       "                 developer-friendly name API data type VARIABLE NAME   -2  \\\n",
       "0                minority_serving.aanipi       integer       AANAPII  NaN   \n",
       "1                             accreditor        string  ACCREDAGENCY  NaN   \n",
       "2                        accreditor_code        string    ACCREDCODE  NaN   \n",
       "3  act_scores.25th_percentile.cumulative         float       ACTCM25  NaN   \n",
       "4  act_scores.75th_percentile.cumulative         float       ACTCM75  NaN   \n",
       "\n",
       "    -1    0    1    2 ...  98  99 100 101 102 103 104 105 106 107  \n",
       "0  NaN   No  Yes  NaN ... NaN NaN NaN NaN NaN NaN NaN NaN NaN NaN  \n",
       "1  NaN  NaN  NaN  NaN ... NaN NaN NaN NaN NaN NaN NaN NaN NaN NaN  \n",
       "2  NaN  NaN  NaN  NaN ... NaN NaN NaN NaN NaN NaN NaN NaN NaN NaN  \n",
       "3  NaN  NaN  NaN  NaN ... NaN NaN NaN NaN NaN NaN NaN NaN NaN NaN  \n",
       "4  NaN  NaN  NaN  NaN ... NaN NaN NaN NaN NaN NaN NaN NaN NaN NaN  \n",
       "\n",
       "[5 rows x 115 columns]"
      ]
     },
     "metadata": {},
     "output_type": "display_data"
    },
    {
     "name": "stdout",
     "output_type": "stream",
     "text": [
      "\n",
      "Passed!\n"
     ]
    }
   ],
   "source": [
    "# Test Cell: `tab_import_test`\n",
    "\n",
    "from pandas.util import hash_pandas_object\n",
    "\n",
    "dd_df = tab_import('../resource/lib/publicdata/mt2p1/CollegeScorecardDataDictionary_wide.txt')\n",
    "\n",
    "assert hash_pandas_object(dd_df).sum() == 691811159278074823, \"You have not imported the data correctly...\"\n",
    "display(dd_df.head())\n",
    "print(\"\\nPassed!\")"
   ]
  },
  {
   "cell_type": "markdown",
   "metadata": {
    "deletable": false,
    "editable": false,
    "nbgrader": {
     "grade": false,
     "locked": true,
     "solution": false
    }
   },
   "source": [
    "The above cell displays the first 5 rows of the data dictionary. Each row of this dataframe contains details of each column label of 'Most-Recent-Cohorts-All-Data-Elements.csv'. The 'VARIABLE NAME' column contains the names currently used as column labels in the 'Most-Recent-Cohorts-All-Data-Elements.csv' file, while the 'developer-friendly name' column contains the labels for those 'variables' that are more understandable.\n",
    "\n",
    "The numeric column labels are Codes and each column contains a row holding a description of what the code means. \n",
    "\n",
    "We will be using the 'Most-Recent-Cohorts-All-Data-Elements.csv' file later on in the problem. \n",
    "\n",
    "Now, as you may have noticed, this is a 1.7+MB dataframe that consists primarily of NaNs in a \"wide\" format.\n",
    "\n",
    "The next few exercises will transform the dataframe into a cleaner and more useful format."
   ]
  },
  {
   "cell_type": "markdown",
   "metadata": {
    "deletable": false,
    "editable": false,
    "nbgrader": {
     "grade": false,
     "locked": true,
     "solution": false
    }
   },
   "source": [
    "#### Exercise 2 (1 point)\n",
    "\n",
    "Write a function that \n",
    "\n",
    "1. Adds a column to the df called 'Coded' that contains Boolean values: False if the columns labeled '-2' through '107' are all NaN, and True otherwise\n",
    "2. Splits the df into two new dataframes, one containing the rows that are 'Coded' and those that are not\n",
    "3. Removes the 'Coded' column from each new dataframe, since it is no longer required"
   ]
  },
  {
   "cell_type": "code",
   "execution_count": 4,
   "metadata": {
    "collapsed": true
   },
   "outputs": [],
   "source": [
    "def split_by_coded(full_df):\n",
    "    #\n",
    "    ###\n",
    "    ### YOUR CODE HERE\n",
    "    ###\n",
    "    ##------- add new column 'Coded' ------##\n",
    "    for row in full_df:\n",
    "        if full_df[5:].isnull().sum(axis = 0) == 110:         #---- axis = 0(index) or 1(column)\n",
    "            full_df['Coded'] = False\n",
    "        else:\n",
    "            full_df['Coded'] = True\n",
    "    \n",
    "    ##------ splits df into 2 df ------##\n",
    "    \n",
    "    \n",
    "        \n",
    "\n",
    "    return coded_df, not_coded_df"
   ]
  },
  {
   "cell_type": "code",
   "execution_count": 5,
   "metadata": {
    "deletable": false,
    "editable": false,
    "nbgrader": {
     "grade": true,
     "grade_id": "split_by_coded_test",
     "locked": true,
     "points": "1",
     "solution": false
    }
   },
   "outputs": [
    {
     "name": "stdout",
     "output_type": "stream",
     "text": [
      "Passed!\n"
     ]
    }
   ],
   "source": [
    "# Test Cell: `split_by_coded_test`\n",
    "\n",
    "from pandas.util import hash_pandas_object\n",
    "\n",
    "c_df, n_c_df = split_by_coded(dd_df)\n",
    "\n",
    "assert 'Coded' in dd_df.columns, \"You have not added the column, 'Coded', to the data dictionary\"\n",
    "assert 'Coded' not in c_df and 'Coded' not in n_c_df, \"You have not deleted the column, 'Coded', from the two new dataframes\"\n",
    "\n",
    "assert hash_pandas_object(c_df).sum() == -4867622688808165705 and hash_pandas_object(n_c_df).sum() == 5559433848086240528, \"You have not split the data properly\"\n",
    "print(\"Passed!\")"
   ]
  },
  {
   "cell_type": "markdown",
   "metadata": {
    "deletable": false,
    "editable": false,
    "nbgrader": {
     "grade": false,
     "locked": true,
     "solution": false
    }
   },
   "source": [
    "#### Exercise 3 (2 points)\n",
    "\n",
    "Write a function that\n",
    "\n",
    "1. Melts the coded dataframe columns '-2' to '107' into a column 'Code' containing the labels and a column 'Description' containing the code description\n",
    "1. Removes all the rows in which 'Description' is NaN from the melted coded dataframe, since these rows add no information\n",
    "1. Deletes the not_coded dataframe columns '-2' to '107' and adds two columns, labeled 'Code' and 'Description', to the not_coded dataframe, populating them with NaN's (use `np.nan`), since this dataframe had no codes to describe. It is recommended to use the `pandas.DataFrame.assign()` method. The `.assign()` method is useful for cleanly creating a new dataframe with new columns, optimized for \"chaining\" methods. https://stackoverflow.com/questions/48177914/why-use-pandas-assign-rather-than-simply-initialize-new-column\n",
    "1. Concatenates the two new dataframes into a single dataframe\n",
    "1. The columns should be ordered as __NAME OF DATA ELEMENT, dev-category, developer-friendly name, API data type, VARIABLE NAME,\tCode, Description__.\n",
    "\n",
    "Hint: Make sure to reset the index of the final melted dataframe!"
   ]
  },
  {
   "cell_type": "code",
   "execution_count": 6,
   "metadata": {
    "collapsed": true
   },
   "outputs": [],
   "source": [
    "import numpy as np\n",
    "\n",
    "def melt_together(coded_df, not_coded_df):\n",
    "    #\n",
    "    ###\n",
    "    ### YOUR CODE HERE\n",
    "    ###\n",
    "    #\n",
    "    return melted_df"
   ]
  },
  {
   "cell_type": "code",
   "execution_count": 7,
   "metadata": {
    "deletable": false,
    "editable": false,
    "nbgrader": {
     "grade": true,
     "grade_id": "melt_together_test",
     "locked": true,
     "points": "2",
     "solution": false
    }
   },
   "outputs": [
    {
     "data": {
      "text/html": [
       "<div>\n",
       "<style scoped>\n",
       "    .dataframe tbody tr th:only-of-type {\n",
       "        vertical-align: middle;\n",
       "    }\n",
       "\n",
       "    .dataframe tbody tr th {\n",
       "        vertical-align: top;\n",
       "    }\n",
       "\n",
       "    .dataframe thead th {\n",
       "        text-align: right;\n",
       "    }\n",
       "</style>\n",
       "<table border=\"1\" class=\"dataframe\">\n",
       "  <thead>\n",
       "    <tr style=\"text-align: right;\">\n",
       "      <th></th>\n",
       "      <th>NAME OF DATA ELEMENT</th>\n",
       "      <th>dev-category</th>\n",
       "      <th>developer-friendly name</th>\n",
       "      <th>API data type</th>\n",
       "      <th>VARIABLE NAME</th>\n",
       "      <th>Code</th>\n",
       "      <th>Description</th>\n",
       "    </tr>\n",
       "  </thead>\n",
       "  <tbody>\n",
       "    <tr>\n",
       "      <th>0</th>\n",
       "      <td>Carnegie Classification -- basic</td>\n",
       "      <td>school</td>\n",
       "      <td>carnegie_basic</td>\n",
       "      <td>integer</td>\n",
       "      <td>CCBASIC</td>\n",
       "      <td>-2</td>\n",
       "      <td>Not applicable</td>\n",
       "    </tr>\n",
       "    <tr>\n",
       "      <th>1</th>\n",
       "      <td>Carnegie Classification -- size and setting</td>\n",
       "      <td>school</td>\n",
       "      <td>carnegie_size_setting</td>\n",
       "      <td>integer</td>\n",
       "      <td>CCSIZSET</td>\n",
       "      <td>-2</td>\n",
       "      <td>Not applicable</td>\n",
       "    </tr>\n",
       "    <tr>\n",
       "      <th>2</th>\n",
       "      <td>Carnegie Classification -- undergraduate profile</td>\n",
       "      <td>school</td>\n",
       "      <td>carnegie_undergrad</td>\n",
       "      <td>integer</td>\n",
       "      <td>CCUGPROF</td>\n",
       "      <td>-2</td>\n",
       "      <td>Not applicable</td>\n",
       "    </tr>\n",
       "    <tr>\n",
       "      <th>3</th>\n",
       "      <td>Religous affiliation of the institution</td>\n",
       "      <td>school</td>\n",
       "      <td>religious_affiliation</td>\n",
       "      <td>integer</td>\n",
       "      <td>RELAFFIL</td>\n",
       "      <td>-2</td>\n",
       "      <td>Not applicable</td>\n",
       "    </tr>\n",
       "    <tr>\n",
       "      <th>4</th>\n",
       "      <td>Religous affiliation of the institution</td>\n",
       "      <td>school</td>\n",
       "      <td>religious_affiliation</td>\n",
       "      <td>integer</td>\n",
       "      <td>RELAFFIL</td>\n",
       "      <td>-1</td>\n",
       "      <td>Not reported</td>\n",
       "    </tr>\n",
       "  </tbody>\n",
       "</table>\n",
       "</div>"
      ],
      "text/plain": [
       "                               NAME OF DATA ELEMENT dev-category  \\\n",
       "0                  Carnegie Classification -- basic       school   \n",
       "1       Carnegie Classification -- size and setting       school   \n",
       "2  Carnegie Classification -- undergraduate profile       school   \n",
       "3           Religous affiliation of the institution       school   \n",
       "4           Religous affiliation of the institution       school   \n",
       "\n",
       "  developer-friendly name API data type VARIABLE NAME Code     Description  \n",
       "0          carnegie_basic       integer       CCBASIC   -2  Not applicable  \n",
       "1   carnegie_size_setting       integer      CCSIZSET   -2  Not applicable  \n",
       "2      carnegie_undergrad       integer      CCUGPROF   -2  Not applicable  \n",
       "3   religious_affiliation       integer      RELAFFIL   -2  Not applicable  \n",
       "4   religious_affiliation       integer      RELAFFIL   -1    Not reported  "
      ]
     },
     "metadata": {},
     "output_type": "display_data"
    },
    {
     "name": "stdout",
     "output_type": "stream",
     "text": [
      "Passed!\n"
     ]
    }
   ],
   "source": [
    "# Test Cell: `melt_together_test`\n",
    "\n",
    "m_df = melt_together(c_df, n_c_df)\n",
    "\n",
    "display(m_df.head())\n",
    "\n",
    "assert 'Code' in m_df.columns, \"The column, 'Code' is not present in the melted dataframe\"\n",
    "assert 'Description' in m_df.columns, \"The column, 'Description' is not present in the melted dataframe\"\n",
    "#print( hash_pandas_object(m_df).sum())\n",
    "assert hash_pandas_object(m_df).sum() == 5644814193110202630, \"You have not carried out the melt operation correctly\"\n",
    "print(\"Passed!\")"
   ]
  },
  {
   "cell_type": "markdown",
   "metadata": {
    "deletable": false,
    "editable": false,
    "nbgrader": {
     "grade": false,
     "locked": true,
     "solution": false
    }
   },
   "source": [
    "#### Exercise 4 (2 points)\n",
    "\n",
    "Now that you have the \"data dictionary\" in a nicer form, use it to write a function that returns a 5-element tuple containing:\n",
    "\n",
    "1. The string value for the '__VARIABLE NAME__' that corresponds to the '__developer-friendly name__', 'name'. This is the name of the column that contains college names.\n",
    "2. The string value for the '__VARIABLE NAME__' that corresponds to the '__developer-friendly name__', 'tuition.in_state'. This is the name of the column that contains the in-state tuition amount for each college.\n",
    "3. The string value for the '__VARIABLE NAME__' that corresponds to the '__developer-friendly name__', 'tuition.out_of_state'. This is the name of the column that contains the out-of-state tuition amount for each college.\n",
    "4. The string value for the '__VARIABLE NAME__' that corresponds to the '__developer-friendly name__', 'program.bachelors.engineering'. This is the name of the column that contains all the colleges that offer a bachelor's degree in engineering.\n",
    "5. The float value of the __Code__ for a college that offers a bachelor's degree in engineering. Hence, the 'Description' corresponding to this data point must be 'Program offered'.\n",
    "\n",
    "For example, suppose the given developer-friendly name is 'carnegie_basic', the corresponding VARIABLE NAME is 'CCBASIC'.\n",
    "\n",
    "__Note:__ This may require some initial exploration of the dataframe. You may find this useful http://pandas.pydata.org/pandas-docs/stable/reference/api/pandas.Series.str.contains.html?highlight=contains#pandas.Series.str.contains"
   ]
  },
  {
   "cell_type": "code",
   "execution_count": 8,
   "metadata": {
    "collapsed": true
   },
   "outputs": [],
   "source": [
    "def get_dd_info(dd):\n",
    "    #\n",
    "    ###\n",
    "    ### YOUR CODE HERE\n",
    "    ###\n",
    "    #\n",
    "    return (name, in_state, out_of_state, bach_eng, offered)"
   ]
  },
  {
   "cell_type": "code",
   "execution_count": 9,
   "metadata": {
    "deletable": false,
    "editable": false,
    "nbgrader": {
     "grade": true,
     "grade_id": "get_dd_info_test",
     "locked": true,
     "points": "2",
     "solution": false
    }
   },
   "outputs": [
    {
     "name": "stdout",
     "output_type": "stream",
     "text": [
      "('INSTNM', 'TUITIONFEE_IN', 'TUITIONFEE_OUT', 'CIP14BACHL', 1.0)\n",
      "Passed!\n"
     ]
    }
   ],
   "source": [
    "# Test Cell: `get_dd_info_test`\n",
    "import hashlib\n",
    "\n",
    "info_tuple = get_dd_info(m_df)\n",
    "print(info_tuple)\n",
    "assert len(info_tuple) == 5, \"Your tuple is not of length 5\"\n",
    "\n",
    "m = hashlib.md5()\n",
    "for t in info_tuple:\n",
    "    m.update(str(t).encode('utf-8'))\n",
    "hash_fn = m.hexdigest()\n",
    "assert hash_fn == \"29e0f9a03ae1d011723538a17c624665\"\n",
    "print(\"Passed!\")"
   ]
  },
  {
   "cell_type": "markdown",
   "metadata": {
    "deletable": false,
    "editable": false,
    "nbgrader": {
     "grade": false,
     "locked": true,
     "solution": false
    }
   },
   "source": [
    "#### Exercise 5 (2 points)\n",
    "\n",
    "Now that you know which variable names to use in the full data file, use that to your advantage.\n",
    "\n",
    "Write a function that, given the file name and the tuple of variable names and codes:\n",
    "\n",
    "1. imports only the columns of interest in the `Most-Recent-Cohorts-All-Data-Elements.csv`, not all 140MB of data.\n",
    "2. keeps only the school that offer a bachelor's in engineering \n",
    "3. adds a new column, use `new_col_name` inside your funtion, which is the percent difference in in-state and out-of-state tuition, using the equation below\n",
    "\n",
    "$PercentDifference = \\frac{(OutOfStateTuition - InStateTuition)}{InStateTuition}$\n",
    "\n",
    "__Note:__ The first 4 elements of the tuple, 'names_codes' consists of the names of the columns that we wish to import. The last element of the tuple (5th element) is the Code of schools that offer a bachelor's in engineering/engineering technologies. \n",
    "\n",
    "The __`.assign()`__ method must be used for adding the new column\n",
    "\n",
    "Hint: Remember to reset the index! "
   ]
  },
  {
   "cell_type": "code",
   "execution_count": 10,
   "metadata": {
    "collapsed": true
   },
   "outputs": [],
   "source": [
    "def percent_diff(fname, names_codes, new_col_name):\n",
    "    #\n",
    "    ###\n",
    "    ### YOUR CODE HERE\n",
    "    ###\n",
    "    #\n",
    "    return perc_diff_df"
   ]
  },
  {
   "cell_type": "code",
   "execution_count": 11,
   "metadata": {
    "deletable": false,
    "editable": false,
    "nbgrader": {
     "grade": true,
     "grade_id": "percent_diff_test",
     "locked": true,
     "points": "2",
     "solution": false
    }
   },
   "outputs": [
    {
     "name": "stdout",
     "output_type": "stream",
     "text": [
      "Percent difference values seem correct. But did you use `assign()?` Let's see...\n",
      "You used `assign()`!\n"
     ]
    },
    {
     "data": {
      "text/html": [
       "<div>\n",
       "<style scoped>\n",
       "    .dataframe tbody tr th:only-of-type {\n",
       "        vertical-align: middle;\n",
       "    }\n",
       "\n",
       "    .dataframe tbody tr th {\n",
       "        vertical-align: top;\n",
       "    }\n",
       "\n",
       "    .dataframe thead th {\n",
       "        text-align: right;\n",
       "    }\n",
       "</style>\n",
       "<table border=\"1\" class=\"dataframe\">\n",
       "  <thead>\n",
       "    <tr style=\"text-align: right;\">\n",
       "      <th></th>\n",
       "      <th>INSTNM</th>\n",
       "      <th>CIP14BACHL</th>\n",
       "      <th>TUITIONFEE_IN</th>\n",
       "      <th>TUITIONFEE_OUT</th>\n",
       "      <th>tuition.difference</th>\n",
       "    </tr>\n",
       "  </thead>\n",
       "  <tbody>\n",
       "    <tr>\n",
       "      <th>0</th>\n",
       "      <td>Alabama A &amp; M University</td>\n",
       "      <td>1.0</td>\n",
       "      <td>9366.0</td>\n",
       "      <td>17496.0</td>\n",
       "      <td>0.868033</td>\n",
       "    </tr>\n",
       "    <tr>\n",
       "      <th>1</th>\n",
       "      <td>University of Alabama at Birmingham</td>\n",
       "      <td>1.0</td>\n",
       "      <td>8040.0</td>\n",
       "      <td>18368.0</td>\n",
       "      <td>1.284577</td>\n",
       "    </tr>\n",
       "    <tr>\n",
       "      <th>2</th>\n",
       "      <td>University of Alabama in Huntsville</td>\n",
       "      <td>1.0</td>\n",
       "      <td>9842.0</td>\n",
       "      <td>20612.0</td>\n",
       "      <td>1.094290</td>\n",
       "    </tr>\n",
       "    <tr>\n",
       "      <th>3</th>\n",
       "      <td>Alabama State University</td>\n",
       "      <td>1.0</td>\n",
       "      <td>9220.0</td>\n",
       "      <td>16156.0</td>\n",
       "      <td>0.752278</td>\n",
       "    </tr>\n",
       "    <tr>\n",
       "      <th>4</th>\n",
       "      <td>Auburn University</td>\n",
       "      <td>1.0</td>\n",
       "      <td>10696.0</td>\n",
       "      <td>28840.0</td>\n",
       "      <td>1.696335</td>\n",
       "    </tr>\n",
       "  </tbody>\n",
       "</table>\n",
       "</div>"
      ],
      "text/plain": [
       "                                INSTNM  CIP14BACHL  TUITIONFEE_IN  \\\n",
       "0             Alabama A & M University         1.0         9366.0   \n",
       "1  University of Alabama at Birmingham         1.0         8040.0   \n",
       "2  University of Alabama in Huntsville         1.0         9842.0   \n",
       "3             Alabama State University         1.0         9220.0   \n",
       "4                    Auburn University         1.0        10696.0   \n",
       "\n",
       "   TUITIONFEE_OUT  tuition.difference  \n",
       "0         17496.0            0.868033  \n",
       "1         18368.0            1.284577  \n",
       "2         20612.0            1.094290  \n",
       "3         16156.0            0.752278  \n",
       "4         28840.0            1.696335  "
      ]
     },
     "metadata": {},
     "output_type": "display_data"
    },
    {
     "name": "stdout",
     "output_type": "stream",
     "text": [
      "\n",
      " Passed!\n"
     ]
    }
   ],
   "source": [
    "# Test Cell: `percent_diff_test`\n",
    "\n",
    "p_d_df = percent_diff('../resource/lib/publicdata/mt2p1/Most-Recent-Cohorts-All-Data-Elements.csv', \n",
    "                      info_tuple, \n",
    "                      'tuition.difference')\n",
    "\n",
    "#print(hash_pandas_object(p_d_df).sum())\n",
    "assert 'tuition.difference' in p_d_df.columns, \"You have not added the column, 'tuition.difference' to the dataframe\"\n",
    "assert hash_pandas_object(p_d_df).sum() == 3804987697303416746, \"You have imported the tuition data incorrectly\"\n",
    "\n",
    "print(\"Percent difference values seem correct. But did you use `assign()?` Let's see...\")\n",
    "\n",
    "# Tests that you actually used `apply()` in your function:\n",
    "\n",
    "def assign_fail():\n",
    "    raise ValueError(\"Did you really use assign?\")\n",
    "    \n",
    "setattr(pd.DataFrame, 'assign', assign_fail)\n",
    "try:\n",
    "    percent_diff('../resource/lib/publicdata/mt2p1/Most-Recent-Cohorts-All-Data-Elements.csv', info_tuple, 'tuition.difference')\n",
    "except (ValueError, TypeError):\n",
    "    print(\"You used `assign()`!\")\n",
    "else:\n",
    "    assert False, \"Are you sure you used `assign()`?\"\n",
    "finally:\n",
    "    setattr(pd.DataFrame, 'assign', SAVE_ASSIGN)\n",
    "    \n",
    "display(p_d_df.head())\n",
    "print(\"\\n Passed!\")\n"
   ]
  },
  {
   "cell_type": "markdown",
   "metadata": {
    "deletable": false,
    "editable": false,
    "nbgrader": {
     "grade": false,
     "locked": true,
     "solution": false
    }
   },
   "source": [
    "#### Exercise 6 ( 2 points)\n",
    "\n",
    "For the final product, let's make this dataframe more user-friendly.\n",
    "\n",
    "Write a function that\n",
    "\n",
    "1. sorts descending by the tuition difference, `tuition.difference`\n",
    "2. resets the index to provide a clear \"ranking\" without the old index being included in the dataframe\n",
    "3. renames the columns using the data dictionary 'developer-friendly name' instead of the 'VARIABLE NAME'"
   ]
  },
  {
   "cell_type": "code",
   "execution_count": 12,
   "metadata": {
    "collapsed": true
   },
   "outputs": [],
   "source": [
    "def friendlify(unsorted_df, sort_column_name, data_dictionary):\n",
    "    #\n",
    "    ###\n",
    "    ### YOUR CODE HERE\n",
    "    ###\n",
    "    #\n",
    "    return friendly_df"
   ]
  },
  {
   "cell_type": "code",
   "execution_count": 13,
   "metadata": {
    "deletable": false,
    "editable": false,
    "nbgrader": {
     "grade": true,
     "grade_id": "friendlify_test",
     "locked": true,
     "points": "2",
     "solution": false
    }
   },
   "outputs": [
    {
     "name": "stdout",
     "output_type": "stream",
     "text": [
      "Passed!\n"
     ]
    }
   ],
   "source": [
    "# Test Cell: `friendlify_test`\n",
    "\n",
    "f_df = friendlify(p_d_df, \n",
    "                  'tuition.difference',\n",
    "                  m_df)\n",
    "\n",
    "for col_name in info_tuple[:-1]:\n",
    "    assert col_name not in f_df.columns, \"You have not renamed the columns\"\n",
    "assert hash_pandas_object(f_df).sum() == 3602324263510516280, \"You have not manipulated the data correctly\"\n",
    "print(\"Passed!\")"
   ]
  },
  {
   "cell_type": "markdown",
   "metadata": {
    "deletable": false,
    "editable": false,
    "nbgrader": {
     "grade": false,
     "locked": true,
     "solution": false
    }
   },
   "source": [
    "**Fin!** You've reached the end of this problem. Don't forget to restart the kernel and run the entire notebook from top-to-bottom to make sure you did everything correctly. If that is working, try submitting this problem. (Recall that you *must* submit and pass the autograder to get credit for your work!)"
   ]
  }
 ],
 "metadata": {
  "kernelspec": {
   "display_name": "Python 2",
   "language": "python",
   "name": "python2"
  },
  "language_info": {
   "codemirror_mode": {
    "name": "ipython",
    "version": 2
   },
   "file_extension": ".py",
   "mimetype": "text/x-python",
   "name": "python",
   "nbconvert_exporter": "python",
   "pygments_lexer": "ipython2",
   "version": "2.7.15"
  }
 },
 "nbformat": 4,
 "nbformat_minor": 2
}
