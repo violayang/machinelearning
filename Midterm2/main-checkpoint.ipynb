{
 "cells": [
  {
   "cell_type": "markdown",
   "metadata": {
    "deletable": false,
    "editable": false,
    "nbgrader": {
     "grade": false,
     "locked": true,
     "solution": false
    }
   },
   "source": [
    "# Topic 10 Geometric Matrix Operation"
   ]
  },
  {
   "cell_type": "markdown",
   "metadata": {
    "deletable": false,
    "editable": false,
    "nbgrader": {
     "grade": false,
     "locked": true,
     "solution": false
    }
   },
   "source": [
    "The exercise contains two sets of problems. The first set tests your algorithmic capability in terms of matrix (which has simple syntax yet difficult algorithm). The second set tests your ability to read complex syntax and implement simple numpy code. The issue at hand might be challenging and esoteric but following the instruction will ensure a success at the very end and you will learn a complex algorithm."
   ]
  },
  {
   "cell_type": "markdown",
   "metadata": {
    "deletable": false,
    "editable": false,
    "nbgrader": {
     "grade": false,
     "locked": true,
     "solution": false
    }
   },
   "source": [
    "**Exercise 0** (3 points) Find the perimeter\n",
    "\n",
    "Let's start off with a relatively simpler example. You are given a map in form of a two-dimensional integer grid where 1 represents land and 0 represents water. Grid cells are connected horizontally/vertically (not diagonally). The grid is completely surrounded by water, and there is exactly one island (i.e., one or more connected land cells).\n",
    "\n",
    "The island doesn't have \"lakes\" (water inside that isn't connected to the water around the island). One cell is a square with side length 1. The grid is rectangular, width and height don't exceed 100. Determine the perimeter of the island.\n",
    "\n",
    "Example:\n",
    "Input:\n",
    "[[0,1,0,0],\n",
    " [1,1,1,0],\n",
    " [0,1,0,0],\n",
    " [1,1,0,0]]\n",
    "\n",
    "Output: 16\n",
    "![perimeter.png](attachment:perimeter.png)"
   ]
  },
  {
   "cell_type": "code",
   "execution_count": null,
   "metadata": {
    "collapsed": true
   },
   "outputs": [],
   "source": [
    "def islandPerimeter(grid):\n",
    "    ###\n",
    "    ### YOUR CODE HERE\n",
    "    ###\n"
   ]
  },
  {
   "cell_type": "code",
   "execution_count": null,
   "metadata": {
    "collapsed": true,
    "deletable": false,
    "editable": false,
    "nbgrader": {
     "grade": true,
     "grade_id": "test1",
     "locked": true,
     "points": "3",
     "solution": false
    },
    "scrolled": false
   },
   "outputs": [],
   "source": [
    "# Test cell: `test1`\n",
    "test1 = [[0,1,0,0], [1,1,1,0], [0,1,0,0], [1,1,0,0]]\n",
    "assert islandPerimeter(test1) == 16, 'The value of the output is incorrect'\n",
    "\n",
    "test2 = [[1,1,0,0],[1,1,0,0],[1,1,1,1]]\n",
    "\n",
    "assert islandPerimeter(test2) == 14,'The value of the output is incorrect'\n",
    "test3 = [[1,1,0,0], [1,0,0,0],[0,0,0,0],[0,0,1,0]]\n",
    "\n",
    "assert islandPerimeter(test3) == 12, 'The value of the output is incorrect'\n",
    "\n",
    "print(\"\\n(Passed!)\")"
   ]
  },
  {
   "cell_type": "markdown",
   "metadata": {
    "deletable": false,
    "editable": false,
    "nbgrader": {
     "grade": false,
     "locked": true,
     "solution": false
    }
   },
   "source": [
    "**Exercise 1**\n",
    "\n",
    "This problem is concerned with computing the minimum volume covering ellipsoid (MVCE) in 2-dimensional space. Suppose we have a set of points stored in matrix P, we want to find the “smallest” ellipsoid that contains all data points. \n",
    "An example of the ellipse is shown below: \n",
    "![Screen%20Shot%202019-03-11%20at%209.35.17%20PM.png](attachment:Screen%20Shot%202019-03-11%20at%209.35.17%20PM.png)\n",
    "\n",
    "In this problem, we use Khachiyan Algorithm for computation. An ellipse E centered at c can be described with shape matrix A:\n",
    "\n",
    "\\begin{equation*}\n",
    "\\left(p_{i}-c\\right)^T A \\left(p_{i}-c\\right) \\leq 1\n",
    "\\end{equation*}\n",
    "\n",
    "\\begin{equation*}\n",
    "A \\geq 0\n",
    "\\end{equation*}\n",
    "Where $ p_{i}$ is the i-th column of the matrix P. \n",
    "The volume of above ellipsoid is proportional to the logarithmic determinant of inverse A, therefore, the object of this problem is to find the matrix A to minimize Vol(E):\n",
    "\\begin{equation*}\n",
    "\\text{min } log\\left(det A^{-1}\\right)\n",
    "\\end{equation*}    \n",
    "\n",
    "**Acquisition of Matrix A is already coded for you.** The optimal value depends on the set up of threshold of 'tolerance'. For convenience, we set the tolerance = 0.001. \n",
    "\n",
    "** In exercise 1 and 2, you only need to write one or two lines of codes using the equations below.** Here,\n",
    "\n",
    "P : (N x 2) dimensional matrix containing N points in 2-dimensional space.\n",
    "tolerance : error in the solution with respect to the optimal value.\n",
    "\n",
    "c(center) : 2-dimensional vector containing the center of the ellipse.\n",
    "\n",
    "**c = P.transpose * u (here, u is also coded for you, it is a N x 1 vector to assist locating the center )** \n",
    "\n",
    "A : This matrix contains all the information regarding the shape of the ellipsoid. To get the radii and orientation of the ellipsoid take the Singular Value Decomposition ( svd function in matlab) of the output matrix A: \n",
    "\n",
    "**U, s, rotation = svd(A)**\n",
    "\n",
    "the radii are given by:\n",
    "\n",
    "**radii = 1/sqrt(s)**\n",
    "\n"
   ]
  },
  {
   "cell_type": "code",
   "execution_count": 1,
   "metadata": {
    "deletable": false,
    "editable": false,
    "nbgrader": {
     "grade": false,
     "locked": true,
     "solution": false
    }
   },
   "outputs": [],
   "source": [
    "import numpy as np\n",
    "import matplotlib.pyplot as plt\n",
    "import matplotlib.patches as patches\n",
    "import random\n",
    "from numpy import linalg\n",
    "import time"
   ]
  },
  {
   "cell_type": "code",
   "execution_count": 2,
   "metadata": {
    "deletable": false,
    "editable": false,
    "nbgrader": {
     "grade": false,
     "locked": true,
     "solution": false
    }
   },
   "outputs": [],
   "source": [
    "random.seed(10)\n",
    "P = np.reshape([random.random()*10 for i in range(20)],(10,2)) #Let's start off by generating an matrix with 20 entries\n",
    "(N, d) = np.shape(P) #We use N and d to extract the row and column of the matrix\n",
    "d = float(d)\n",
    "tolerance = 0.001\n",
    "# Q will be our working array\n",
    "Q = np.vstack([np.copy(P.T), np.ones(N)]) \n",
    "QT = Q.T\n",
    "# initializations\n",
    "err = 1.0 + tolerance\n",
    "u = (1.0 / N) * np.ones(N)\n",
    "# Khachiyan Algorithm\n",
    "while err > tolerance:\n",
    "    V = np.dot(Q, np.dot(np.diag(u), QT))\n",
    "    M = np.diag(np.dot(QT , np.dot(linalg.inv(V), Q)))    # M the diagonal vector of an NxN matrix\n",
    "    j = np.argmax(M)\n",
    "    maximum = M[j]\n",
    "    step_size = (maximum - d - 1.0) / ((d + 1.0) * (maximum - 1.0))\n",
    "    new_u = (1.0 - step_size) * u\n",
    "    new_u[j] += step_size\n",
    "    err = np.linalg.norm(new_u - u)\n",
    "    u = new_u"
   ]
  },
  {
   "cell_type": "markdown",
   "metadata": {
    "deletable": false,
    "editable": false,
    "nbgrader": {
     "grade": false,
     "locked": true,
     "solution": false
    }
   },
   "source": [
    "**Exercise 1** (2 points) In order to find the center of the ellipse, you need to find the dot product between **P_transpose** and u. (Hint: use the built-in function in numpy for computation)"
   ]
  },
  {
   "cell_type": "code",
   "execution_count": 3,
   "metadata": {},
   "outputs": [],
   "source": [
    "def find_center(P_transpose, u,):\n",
    "    ###\n",
    "    ### YOUR CODE HERE\n",
    "    ###\n",
    "    return P_transpose.dot(u)\n"
   ]
  },
  {
   "cell_type": "code",
   "execution_count": 4,
   "metadata": {
    "deletable": false,
    "editable": false,
    "nbgrader": {
     "grade": true,
     "grade_id": "test2",
     "locked": true,
     "points": "3",
     "solution": false
    }
   },
   "outputs": [
    {
     "name": "stdout",
     "output_type": "stream",
     "text": [
      "\n",
      "(Passed!)\n"
     ]
    }
   ],
   "source": [
    "## Test cell: `test_center`\n",
    "t0_test = time.time()\n",
    "find_center(P.T, u)\n",
    "diff = np.subtract(find_center(P.T, u), [6.321053,5.10618675])\n",
    "assert (diff<=1e-8).all(), 'Your solution does not have the correct center value'\n",
    "t1_test = time.time()\n",
    "time_naive = t1_test - t0_test + 1e-10\n",
    "required_time = 0.03132821129394531\n",
    "ratio = time_naive/required_time\n",
    "assert required_time/time_naive >10, 'Your run time is {}, which is {}x faster. We need the solution to be 10 times faster '.format(time_naive,ratio)\n",
    "print('\\n(Passed!)')"
   ]
  },
  {
   "cell_type": "markdown",
   "metadata": {
    "deletable": false,
    "editable": false,
    "nbgrader": {
     "grade": false,
     "locked": true,
     "solution": false
    }
   },
   "source": [
    "**Exercise 2** (3 points) Now that we have figured out the center, let's investigate on how to find the radius of the ellipse since the center and the radius will define an ellipse. First we have to perform a rotation of the matrix and again, you do not have to comprehend this part of the algorithm just make sure you keep track of the variables. \n"
   ]
  },
  {
   "cell_type": "code",
   "execution_count": 5,
   "metadata": {
    "deletable": false,
    "editable": false,
    "nbgrader": {
     "grade": false,
     "locked": true,
     "solution": false
    }
   },
   "outputs": [],
   "source": [
    " # the A matrix for the ellipse\n",
    "center = find_center(P.T, u)\n",
    "A = linalg.inv(\n",
    "               np.dot(P.T, np.dot(np.diag(u), P)) - \n",
    "               np.array([[a * b for b in center] for a in center])\n",
    "               ) / d\n",
    "# Get the values we'd like to return\n",
    "U, s, rotation = linalg.svd(A)"
   ]
  },
  {
   "cell_type": "markdown",
   "metadata": {
    "deletable": false,
    "editable": false,
    "nbgrader": {
     "grade": false,
     "locked": true,
     "solution": false
    }
   },
   "source": [
    "The formula for the radius is 1/square root of s. Please use corresponding method to calculate the radius. "
   ]
  },
  {
   "cell_type": "code",
   "execution_count": 6,
   "metadata": {},
   "outputs": [],
   "source": [
    "def find_radius(s):\n",
    "    ###\n",
    "    ### YOUR CODE HERE\n",
    "    ###\n",
    "    output = 1/(s**0.5)\n",
    "    return output\n"
   ]
  },
  {
   "cell_type": "code",
   "execution_count": 7,
   "metadata": {
    "deletable": false,
    "editable": false,
    "nbgrader": {
     "grade": true,
     "grade_id": "test3",
     "locked": true,
     "points": "2",
     "solution": false
    },
    "scrolled": true
   },
   "outputs": [
    {
     "name": "stdout",
     "output_type": "stream",
     "text": [
      "\n",
      "(Passed!)\n"
     ]
    }
   ],
   "source": [
    "# Test cell: `test_radius`\n",
    "t2_test = time.time()\n",
    "find_radius(s)\n",
    "radius_diff = np.subtract(find_radius(s),[3.35112615, 5.95371236])\n",
    "assert (radius_diff<=1e-8).all(), 'Your solution does not have the correct center value'\n",
    "t3_test = time.time()\n",
    "time_naive_radius = t3_test - t2_test + 1e-10\n",
    "radius_required_time = 0.03132821129394531\n",
    "radius_ratio = radius_required_time/time_naive_radius\n",
    "assert radius_ratio >10, 'Your run time is {}, which is {}x faster. We need the solution to be 10 times faster '.format(time_naive,ratio)\n",
    "print('\\n(Passed!)')"
   ]
  },
  {
   "cell_type": "markdown",
   "metadata": {
    "deletable": false,
    "editable": false,
    "nbgrader": {
     "grade": false,
     "locked": true,
     "solution": false
    }
   },
   "source": [
    "**Visualization** (ungraded)"
   ]
  },
  {
   "cell_type": "code",
   "execution_count": null,
   "metadata": {
    "collapsed": true,
    "deletable": false,
    "editable": false,
    "nbgrader": {
     "grade": false,
     "locked": true,
     "solution": false
    }
   },
   "outputs": [],
   "source": [
    "ra = find_radius(s)[0];\n",
    "rb = find_radius(s)[1];\n",
    "ang = np.arctan(U[1, 0] / U[0, 0])\n",
    "fig = plt.figure()\n",
    "ax = fig.add_subplot(111, aspect = 'equal')\n",
    "\n",
    "ax.scatter(P.T[0, :], P.T[1, :])\n",
    "ax.add_patch(\n",
    "patches.Ellipse(center, 2*ra, 2 *rb, np.rad2deg(ang), fill=False)\n",
    ")\n",
    "ax.axis('scaled')"
   ]
  },
  {
   "cell_type": "markdown",
   "metadata": {
    "collapsed": true
   },
   "source": [
    "**Fin!** You've reached the end of this problem. Don't forget to restart the kernel and run the entire notebook from top-to-bottom \n",
    "to make sure you did everything correctly. If that is working, try submitting this problem. (Recall that you must submit and pass the autograder to get credit for your work!)"
   ]
  }
 ],
 "metadata": {
  "kernelspec": {
   "display_name": "Python 2",
   "language": "python",
   "name": "python2"
  },
  "language_info": {
   "codemirror_mode": {
    "name": "ipython",
    "version": 2
   },
   "file_extension": ".py",
   "mimetype": "text/x-python",
   "name": "python",
   "nbconvert_exporter": "python",
   "pygments_lexer": "ipython2",
   "version": "2.7.15"
  }
 },
 "nbformat": 4,
 "nbformat_minor": 2
}
