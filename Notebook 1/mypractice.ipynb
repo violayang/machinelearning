{
 "cells": [
  {
   "cell_type": "code",
   "execution_count": 1,
   "metadata": {},
   "outputs": [],
   "source": [
    "from random import choice"
   ]
  },
  {
   "cell_type": "code",
   "execution_count": 1,
   "metadata": {},
   "outputs": [
    {
     "name": "stdout",
     "output_type": "stream",
     "text": [
      "1-2-3-4\n"
     ]
    }
   ],
   "source": [
    "numList = ['1', '2', '3', '4']\n",
    "seperator = '-'\n",
    "print seperator.join(numList)"
   ]
  },
  {
   "cell_type": "code",
   "execution_count": 2,
   "metadata": {},
   "outputs": [],
   "source": [
    "def strcat_ba(a,b):\n",
    "    assert type(a) is str\n",
    "    assert type(b) is str\n",
    "    return b+a"
   ]
  },
  {
   "cell_type": "code",
   "execution_count": 3,
   "metadata": {},
   "outputs": [],
   "source": [
    "def random_letter():\n",
    "    from random import choice\n",
    "    return choice('abcdefghijklmnopqrstuvwxyz')\n"
   ]
  },
  {
   "cell_type": "code",
   "execution_count": 5,
   "metadata": {},
   "outputs": [
    {
     "data": {
      "text/plain": [
       "'w'"
      ]
     },
     "execution_count": 5,
     "metadata": {},
     "output_type": "execute_result"
    }
   ],
   "source": [
    "fun = random_letter\n",
    "fun()"
   ]
  },
  {
   "cell_type": "code",
   "execution_count": 4,
   "metadata": {},
   "outputs": [],
   "source": [
    "def random_string(n, fun=random_letter):\n",
    "    print ('==== n is {} ===='.format(n))\n",
    "    iterateStr = str(fun())\n",
    "    print (\"iterateStr is {}\".format(iterateStr))\n",
    "    output = ''.join([iterateStr for i in range(n)])\n",
    "    print output\n",
    "    \n",
    "    return ''.join([str(fun()) for i in range(n)])"
   ]
  },
  {
   "cell_type": "code",
   "execution_count": 78,
   "metadata": {},
   "outputs": [
    {
     "name": "stdout",
     "output_type": "stream",
     "text": [
      "==== n is 5 ====\n",
      "iterateStr is x\n",
      "xxxxx\n",
      "==== n is 3 ====\n",
      "iterateStr is i\n",
      "iii\n",
      "tcgay\n"
     ]
    }
   ],
   "source": [
    "a = random_string(5)\n",
    "b = random_string(3)\n",
    "c = strcat_ba(a, b)\n",
    "#print 'a'\n",
    "print a"
   ]
  },
  {
   "cell_type": "code",
   "execution_count": 63,
   "metadata": {},
   "outputs": [
    {
     "name": "stdout",
     "output_type": "stream",
     "text": [
      "strcat_ba(\"rolem\", \"lpc\") == \"lpcrolem\"\n"
     ]
    }
   ],
   "source": [
    "print ('strcat_ba(\"{}\", \"{}\") == \"{}\"'.format(a, b, c))\n",
    "assert len(c)==len(a)+len(b)\n",
    "assert c[:len(b)] == b\n",
    "assert c[len(b):] == a ## or c[-len(a):]"
   ]
  },
  {
   "cell_type": "code",
   "execution_count": 79,
   "metadata": {},
   "outputs": [
    {
     "data": {
      "text/plain": [
       "[90, 3, 5, 2]"
      ]
     },
     "execution_count": 79,
     "metadata": {},
     "output_type": "execute_result"
    }
   ],
   "source": [
    "### my code\n",
    "def strcat_list(L):\n",
    "    \n",
    "    assert type(L) is list\n",
    "    output = [0]* len(L)\n",
    "    index = 1\n",
    "    for i in L:\n",
    "        output[-index] = i\n",
    "        index += 1\n",
    "        \n",
    "    return output\n",
    "\n"
   ]
  },
  {
   "cell_type": "code",
   "execution_count": 6,
   "metadata": {},
   "outputs": [],
   "source": [
    "### solution \n",
    "def strcat_list(L):\n",
    "    assert type(L) is list\n",
    "    str_length = len(L)\n",
    "    output = ''\n",
    "    \n",
    "    for i in reversed(range(str_length)):\n",
    "        output += L[i]\n",
    "    return output"
   ]
  },
  {
   "cell_type": "code",
   "execution_count": 79,
   "metadata": {
    "collapsed": true
   },
   "outputs": [
    {
     "name": "stdout",
     "output_type": "stream",
     "text": [
      "==== n is 3 ====\n",
      "iterateStr is g\n",
      "ggg\n",
      "==== n is 3 ====\n",
      "iterateStr is p\n",
      "ppp\n",
      "==== n is 3 ====\n",
      "iterateStr is b\n",
      "bbb\n",
      "==== n is 3 ====\n",
      "iterateStr is r\n",
      "rrr\n",
      "==== n is 3 ====\n",
      "iterateStr is d\n",
      "ddd\n",
      "==== n is 3 ====\n",
      "iterateStr is h\n",
      "hhh\n"
     ]
    }
   ],
   "source": [
    "n = 3\n",
    "nL = 6\n",
    "L = [random_string(n) for item in range(nL)]\n",
    "print L\n",
    "Lc = strcat_list(L)\n",
    "print Lc"
   ]
  },
  {
   "cell_type": "code",
   "execution_count": 7,
   "metadata": {},
   "outputs": [],
   "source": [
    "def is_number(x):\n",
    "    from numbers import Number\n",
    "    return isinstance(x, Number)\n",
    "\n",
    "def floor_fraction(a,b):\n",
    "    assert is_number(a) and a>=0\n",
    "    assert is_number(b) and b>0\n",
    "    import math\n",
    "    return math.floor(a/b)  #-- python2.7 math.floor() returns float value; python3.0 returns int value"
   ]
  },
  {
   "cell_type": "code",
   "execution_count": 8,
   "metadata": {},
   "outputs": [
    {
     "data": {
      "text/plain": [
       "float"
      ]
     },
     "execution_count": 8,
     "metadata": {},
     "output_type": "execute_result"
    }
   ],
   "source": [
    "import math\n",
    "type(math.floor(73/24))"
   ]
  },
  {
   "cell_type": "code",
   "execution_count": 11,
   "metadata": {},
   "outputs": [
    {
     "name": "stdout",
     "output_type": "stream",
     "text": [
      "floor_fraction(0.67017722726, 0.301381073638)== floor (2.22368717176) == 2.0\n",
      "\n",
      "(Passed!)\n"
     ]
    }
   ],
   "source": [
    "# test floor_fraction() function \n",
    "from random import random\n",
    "a = random()\n",
    "b = random()\n",
    "c = floor_fraction(a,b)\n",
    "\n",
    "print 'floor_fraction({}, {})== floor ({}) == {}'.format(a, b, a/b, c)\n",
    "assert b*c <= a <= b*(c+1)\n",
    "print '\\n(Passed!)'   #-- \\n line delimitor, start a new line\n"
   ]
  },
  {
   "cell_type": "code",
   "execution_count": 9,
   "metadata": {},
   "outputs": [],
   "source": [
    "def ceiling_fraction(a,b):\n",
    "    assert is_number(a) and a>=0\n",
    "    assert is_number(b) and b >0\n",
    "    \n",
    "    import math\n",
    "    return int(math.ceil(a/b))"
   ]
  },
  {
   "cell_type": "code",
   "execution_count": 41,
   "metadata": {},
   "outputs": [
    {
     "data": {
      "text/plain": [
       "6"
      ]
     },
     "execution_count": 41,
     "metadata": {},
     "output_type": "execute_result"
    }
   ],
   "source": [
    "ceiling_fraction(483,78)"
   ]
  },
  {
   "cell_type": "code",
   "execution_count": 15,
   "metadata": {},
   "outputs": [
    {
     "name": "stdout",
     "output_type": "stream",
     "text": [
      "ceiling_fraction(0.646421824412, 0.184622645207) == ceiling(3.50131384851) == 4\n"
     ]
    }
   ],
   "source": [
    "a = random()\n",
    "b = random()\n",
    "c = ceiling_fraction(a, b)\n",
    "\n",
    "print 'ceiling_fraction({}, {}) == ceiling({}) == {}'.format(a, b, a/b, c)\n",
    "assert b*(c-1) <= a <= b*c\n",
    "assert type(c) is int"
   ]
  },
  {
   "cell_type": "code",
   "execution_count": 32,
   "metadata": {},
   "outputs": [],
   "source": [
    "##--- report exam avg score in one demical \n",
    "def report_exam_avg(a, b,c):\n",
    "    import numpy as np\n",
    "    avg = round(np.mean(np.array([a,b,c])),1)\n",
    "    string = 'Your average score: '+ str(avg)\n",
    "    return string"
   ]
  },
  {
   "cell_type": "code",
   "execution_count": 29,
   "metadata": {},
   "outputs": [
    {
     "name": "stdout",
     "output_type": "stream",
     "text": [
      "81.66666666666667\n",
      "81.67\n"
     ]
    }
   ],
   "source": [
    "import numpy as np\n",
    "a = np.array([90,75,80])\n",
    "print np.mean(a,dtype=None)\n",
    "print round(np.mean(a,dtype=None), 2)"
   ]
  },
  {
   "cell_type": "code",
   "execution_count": 36,
   "metadata": {},
   "outputs": [
    {
     "name": "stdout",
     "output_type": "stream",
     "text": [
      "Your average score: 91.7\n",
      "Checking some additional randomly generated cases:\n",
      "92.2155743277, 73.3168783428, 12.1765356878 -> 'Your average score: 59.2' [0.0363294527361]\n",
      "8.55185161807, 36.572533024, 42.7027531611 -> 'Your average score: 29.3' [0.0242873989505]\n",
      "41.2604028494, 81.3676672594, 13.8714046371 -> 'Your average score: 45.5' [0.000175084696025]\n",
      "9.93289698595, 85.75865334, 87.2541577605 -> 'Your average score: 61.0' [0.0180973045259]\n",
      "62.2484001488, 29.319989485, 49.2125853627 -> 'Your average score: 46.9' [0.0269916654998]\n",
      "70.656743626, 9.5429553751, 42.174953577 -> 'Your average score: 40.8' [0.00844914060947]\n",
      "15.2770730075, 4.50319573403, 6.3055883613 -> 'Your average score: 8.7' [0.00471429906539]\n",
      "84.6346123127, 49.5886164414, 24.4790823219 -> 'Your average score: 52.9' [0.000770358674098]\n",
      "44.8788128726, 86.159177143, 79.407501559 -> 'Your average score: 70.1' [0.0484971915428]\n",
      "59.9847578698, 99.4061322983, 33.3426638388 -> 'Your average score: 64.2' [0.0445180022988]\n"
     ]
    }
   ],
   "source": [
    "msg = report_exam_avg(100, 95, 80)\n",
    "print msg\n",
    "\n",
    "print 'Checking some additional randomly generated cases:'\n",
    "\n",
    "for i in range(10):\n",
    "    ex1 = random()*100\n",
    "    ex2 = random()*100\n",
    "    ex3 = random()*100\n",
    "    msg = report_exam_avg(ex1,ex2,ex3)\n",
    "    ex_rounded_avg = float(msg.split()[-1])\n",
    "    abs_err = abs(ex_rounded_avg*3 - (ex1 + ex2 + ex3)) / 3\n",
    "    print(\"{}, {}, {} -> '{}' [{}]\".format(ex1, ex2, ex3, msg, abs_err))\n",
    "    assert abs_err <= 0.05\n",
    "    "
   ]
  },
  {
   "cell_type": "code",
   "execution_count": 50,
   "metadata": {},
   "outputs": [],
   "source": [
    "def count_word_length(s):\n",
    "    len_list = map(len, s.split())\n",
    "    return len_list"
   ]
  },
  {
   "cell_type": "code",
   "execution_count": 38,
   "metadata": {},
   "outputs": [],
   "source": [
    "string = 'the quick  brown   fox jumped over     the lazy  dog'"
   ]
  },
  {
   "cell_type": "code",
   "execution_count": 49,
   "metadata": {},
   "outputs": [
    {
     "name": "stdout",
     "output_type": "stream",
     "text": [
      "['the', 'quick', '', 'brown', '', '', 'fox', 'jumped', 'over', '', '', '', '', 'the', 'lazy', '', 'dog']\n",
      "['the', 'quick', 'brown', 'fox', 'jumped', 'over', 'the', 'lazy', 'dog']\n",
      "[3, 5, 5, 3, 6, 4, 3, 4, 3]\n"
     ]
    }
   ],
   "source": [
    "word_list = string.split(' ')\n",
    "print word_list\n",
    "new_list = ' '.join(word_list).split()\n",
    "print new_list\n",
    "print map(len, new_list)"
   ]
  },
  {
   "cell_type": "code",
   "execution_count": 81,
   "metadata": {},
   "outputs": [
    {
     "data": {
      "text/plain": [
       "function"
      ]
     },
     "execution_count": 81,
     "metadata": {},
     "output_type": "execute_result"
    }
   ],
   "source": [
    "count_word_length(string)\n",
    "type(count_word_length)"
   ]
  },
  {
   "cell_type": "code",
   "execution_count": 53,
   "metadata": {},
   "outputs": [
    {
     "name": "stdout",
     "output_type": "stream",
     "text": [
      "Test 1: count_word_lengths('the quick brown fox jumped over the lazy dog') == [3, 5, 5, 3, 6, 4, 3, 4, 3]\n"
     ]
    }
   ],
   "source": [
    "# Test 1: Example\n",
    "qbf_str = 'the quick brown fox jumped over the lazy dog'\n",
    "qbf_lens = count_word_length(qbf_str)\n",
    "print(\"Test 1: count_word_lengths('{}') == {}\".format(qbf_str, qbf_lens))\n",
    "assert qbf_lens == [3, 5, 5, 3, 6, 4, 3, 4, 3]"
   ]
  },
  {
   "cell_type": "code",
   "execution_count": 102,
   "metadata": {
    "collapsed": true
   },
   "outputs": [
    {
     "name": "stdout",
     "output_type": "stream",
     "text": [
      "==== n is 40 ====\n",
      "iterateStr is k\n",
      "kkkkkkkkkkkkkkkkkkkkkkkkkkkkkkkkkkkkkkkk\n",
      "Test 2: count_word_length(oc yw emuh  v  w j d ifuojfiyjezkoex rdn) == [2, 2, 4, 1, 1, 1, 1, 15, 3]\n",
      "  => 'oc'\n",
      "  => 'yw'\n",
      "  => 'emuh'\n",
      "  => 'v'\n",
      "  => 'w'\n",
      "  => 'j'\n",
      "  => 'd'\n",
      "  => 'ifuojfiyjezkoex'\n",
      "  => 'rdn'\n",
      "Test 3: Empty strings...\n",
      "\n",
      "(Passed!)\n"
     ]
    }
   ],
   "source": [
    "#Test 2: Random strings\n",
    "from random import choice\n",
    "\n",
    "def random_letter_or_space(pr_space=0.15):\n",
    "    from random import choice, random\n",
    "    is_space = (random() <= pr_space)\n",
    "    if is_space:\n",
    "        return ' '\n",
    "    return random_letter()\n",
    "\n",
    "S_LEN = 40\n",
    "W_SAPCE = 1/6\n",
    "rand_str = random_string(S_LEN, fun = random_letter_or_space)\n",
    "rand_lens = count_word_length(rand_str)\n",
    "print 'Test 2: count_word_length({}) == {}'.format(rand_str, rand_lens)\n",
    "\n",
    "c= 0 \n",
    "while c < len(rand_str) and rand_str[c] == ' ':\n",
    "    c += 1\n",
    "for k in rand_lens:\n",
    "    print(\"  => '{}'\".format (rand_str[c:c+k]))\n",
    "    assert (c+k) == len(rand_str) or rand_str[c+k] == ' '\n",
    "    c += k\n",
    "    while c < len(rand_str) and rand_str[c] == ' ':\n",
    "        c += 1\n",
    "    \n",
    "# Test 3: Empty string\n",
    "print(\"Test 3: Empty strings...\")\n",
    "assert count_word_length('') == []\n",
    "assert count_word_length('   ') == []\n",
    "\n",
    "print(\"\\n(Passed!)\")"
   ]
  },
  {
   "cell_type": "code",
   "execution_count": 110,
   "metadata": {},
   "outputs": [],
   "source": [
    "test_list = [8, 7, 2, 5, 1]\n",
    "test_list_1 = [461, 222, 925, 524, 316, 840, 905, 650, 57, 225]"
   ]
  },
  {
   "cell_type": "code",
   "execution_count": 111,
   "metadata": {},
   "outputs": [
    {
     "data": {
      "text/plain": [
       "(1, 8)"
      ]
     },
     "execution_count": 111,
     "metadata": {},
     "output_type": "execute_result"
    }
   ],
   "source": [
    "def minmax_or(L):\n",
    "    return (min(L), max(L))\n",
    "\n",
    "minmax_or(test_list)"
   ]
  },
  {
   "cell_type": "code",
   "execution_count": 113,
   "metadata": {},
   "outputs": [],
   "source": [
    "#-- remove all targeted value from a list --#\n",
    "def remove_all(L, x):\n",
    "    output = []\n",
    "    for i in L:\n",
    "        if i != x:\n",
    "            output.append(i)\n",
    "    return output"
   ]
  },
  {
   "cell_type": "code",
   "execution_count": 116,
   "metadata": {},
   "outputs": [
    {
     "data": {
      "text/plain": [
       "[3, 5, 6, 8, 6, 0, 7, 7, 3, 0, 0, 4, 2, 4, 8, 0, 5, 6, 7, 4]"
      ]
     },
     "execution_count": 116,
     "metadata": {},
     "output_type": "execute_result"
    }
   ],
   "source": [
    "#-- test remove_all() --#\n",
    "remove_all([3, 5, 6, 8, 6, 0, 7, 7, 3, 0, 0, 4, 2, 4, 8, 0, 5, 6, 7, 4], 9)\n"
   ]
  },
  {
   "cell_type": "code",
   "execution_count": 130,
   "metadata": {},
   "outputs": [],
   "source": [
    "def compress_vector(x):\n",
    "    output = {'inds':[], 'vals':[]}\n",
    "    \n",
    "    for i in x:\n",
    "        if i != 0:\n",
    "            output['inds'].append(x.index(i))\n",
    "            output['vals'].append(i)\n",
    "    return output"
   ]
  },
  {
   "cell_type": "code",
   "execution_count": 131,
   "metadata": {},
   "outputs": [
    {
     "data": {
      "text/plain": [
       "{'inds': [1, 5, 6, 9], 'vals': [0.87, 0.32, 0.46, 0.1]}"
      ]
     },
     "execution_count": 131,
     "metadata": {},
     "output_type": "execute_result"
    }
   ],
   "source": [
    "x = [0.0, 0.87, 0.0, 0.0, 0.0, 0.32, 0.46, 0.0, 0.0, 0.10, 0.0, 0.0]\n",
    "compress_vector(x)"
   ]
  },
  {
   "cell_type": "code",
   "execution_count": 137,
   "metadata": {},
   "outputs": [
    {
     "data": {
      "text/plain": [
       "list"
      ]
     },
     "execution_count": 137,
     "metadata": {},
     "output_type": "execute_result"
    }
   ],
   "source": [
    "type(compress_vector(x)['inds'])"
   ]
  },
  {
   "cell_type": "code",
   "execution_count": 134,
   "metadata": {},
   "outputs": [
    {
     "name": "stdout",
     "output_type": "stream",
     "text": [
      "Testing `compress_vector(x=[0.0, 0.87, 0.0, 0.0, 0.0, 0.32, 0.46, 0.0, 0.0, 0.1, 0.0, 0.0])`:\n",
      "\t`x` has 8 zero entries.\n",
      "\tx (after call): [0.0, 0.87, 0.0, 0.0, 0.0, 0.32, 0.46, 0.0, 0.0, 0.1, 0.0, 0.0]\n",
      "\td: {'vals': [0.87, 0.32, 0.46, 0.1], 'inds': [1, 5, 6, 9]}\n"
     ]
    },
    {
     "ename": "AssertionError",
     "evalue": "Output key, 'inds', does not have a value of type `list`.",
     "output_type": "error",
     "traceback": [
      "\u001b[0;31m---------------------------------------------------------------------------\u001b[0m",
      "\u001b[0;31mAssertionError\u001b[0m                            Traceback (most recent call last)",
      "\u001b[0;32m<ipython-input-134-3ce8ffbf88aa>\u001b[0m in \u001b[0;36m<module>\u001b[0;34m()\u001b[0m\n\u001b[1;32m     20\u001b[0m \u001b[0;31m# Test 1: Example\u001b[0m\u001b[0;34m\u001b[0m\u001b[0;34m\u001b[0m\u001b[0m\n\u001b[1;32m     21\u001b[0m \u001b[0mx\u001b[0m \u001b[0;34m=\u001b[0m \u001b[0;34m[\u001b[0m\u001b[0;36m0.0\u001b[0m\u001b[0;34m,\u001b[0m \u001b[0;36m0.87\u001b[0m\u001b[0;34m,\u001b[0m \u001b[0;36m0.0\u001b[0m\u001b[0;34m,\u001b[0m \u001b[0;36m0.0\u001b[0m\u001b[0;34m,\u001b[0m \u001b[0;36m0.0\u001b[0m\u001b[0;34m,\u001b[0m \u001b[0;36m0.32\u001b[0m\u001b[0;34m,\u001b[0m \u001b[0;36m0.46\u001b[0m\u001b[0;34m,\u001b[0m \u001b[0;36m0.0\u001b[0m\u001b[0;34m,\u001b[0m \u001b[0;36m0.0\u001b[0m\u001b[0;34m,\u001b[0m \u001b[0;36m0.10\u001b[0m\u001b[0;34m,\u001b[0m \u001b[0;36m0.0\u001b[0m\u001b[0;34m,\u001b[0m \u001b[0;36m0.0\u001b[0m\u001b[0;34m]\u001b[0m\u001b[0;34m\u001b[0m\u001b[0m\n\u001b[0;32m---> 22\u001b[0;31m \u001b[0mcheck_compress_vector\u001b[0m\u001b[0;34m(\u001b[0m\u001b[0mx\u001b[0m\u001b[0;34m)\u001b[0m\u001b[0;34m\u001b[0m\u001b[0m\n\u001b[0m\u001b[1;32m     23\u001b[0m \u001b[0;34m\u001b[0m\u001b[0m\n\u001b[1;32m     24\u001b[0m \u001b[0;31m# Test 2: Random sparse vectors\u001b[0m\u001b[0;34m\u001b[0m\u001b[0;34m\u001b[0m\u001b[0m\n",
      "\u001b[0;32m<ipython-input-134-3ce8ffbf88aa>\u001b[0m in \u001b[0;36mcheck_compress_vector\u001b[0;34m(x_orig)\u001b[0m\n\u001b[1;32m     10\u001b[0m     \u001b[0;32massert\u001b[0m \u001b[0mx\u001b[0m \u001b[0;34m==\u001b[0m \u001b[0mx_orig\u001b[0m\u001b[0;34m,\u001b[0m \u001b[0;34m\"Your implementation appears to modify the input.\"\u001b[0m\u001b[0;34m\u001b[0m\u001b[0m\n\u001b[1;32m     11\u001b[0m     \u001b[0;32massert\u001b[0m \u001b[0mtype\u001b[0m\u001b[0;34m(\u001b[0m\u001b[0md\u001b[0m\u001b[0;34m)\u001b[0m \u001b[0;32mis\u001b[0m \u001b[0mdict\u001b[0m\u001b[0;34m,\u001b[0m \u001b[0;34m\"Output type is not `dict` (a dictionary).\"\u001b[0m\u001b[0;34m\u001b[0m\u001b[0m\n\u001b[0;32m---> 12\u001b[0;31m     \u001b[0;32massert\u001b[0m \u001b[0;34m'inds'\u001b[0m \u001b[0;32min\u001b[0m \u001b[0md\u001b[0m \u001b[0;32mand\u001b[0m \u001b[0mtype\u001b[0m\u001b[0;34m(\u001b[0m\u001b[0md\u001b[0m\u001b[0;34m[\u001b[0m\u001b[0;34m'inds'\u001b[0m\u001b[0;34m]\u001b[0m\u001b[0;34m)\u001b[0m \u001b[0;32mis\u001b[0m \u001b[0mlist\u001b[0m\u001b[0;34m,\u001b[0m \u001b[0;34m\"Output key, 'inds', does not have a value of type `list`.\"\u001b[0m\u001b[0;34m\u001b[0m\u001b[0m\n\u001b[0m\u001b[1;32m     13\u001b[0m     \u001b[0;32massert\u001b[0m \u001b[0;34m'vals'\u001b[0m \u001b[0;32min\u001b[0m \u001b[0md\u001b[0m \u001b[0;32mand\u001b[0m \u001b[0mtype\u001b[0m\u001b[0;34m(\u001b[0m\u001b[0md\u001b[0m\u001b[0;34m[\u001b[0m\u001b[0;34m'vals'\u001b[0m\u001b[0;34m]\u001b[0m\u001b[0;34m)\u001b[0m \u001b[0;32mis\u001b[0m \u001b[0mlist\u001b[0m\u001b[0;34m,\u001b[0m \u001b[0;34m\"Output key, 'vals', does not have a value of type `list`.\"\u001b[0m\u001b[0;34m\u001b[0m\u001b[0m\n\u001b[1;32m     14\u001b[0m     \u001b[0;32massert\u001b[0m \u001b[0mlen\u001b[0m\u001b[0;34m(\u001b[0m\u001b[0md\u001b[0m\u001b[0;34m[\u001b[0m\u001b[0;34m'inds'\u001b[0m\u001b[0;34m]\u001b[0m\u001b[0;34m)\u001b[0m \u001b[0;34m==\u001b[0m \u001b[0mlen\u001b[0m\u001b[0;34m(\u001b[0m\u001b[0md\u001b[0m\u001b[0;34m[\u001b[0m\u001b[0;34m'vals'\u001b[0m\u001b[0;34m]\u001b[0m\u001b[0;34m)\u001b[0m\u001b[0;34m,\u001b[0m \u001b[0;34m\"`d['inds']` and `d['vals']` are lists of unequal length.\"\u001b[0m\u001b[0;34m\u001b[0m\u001b[0m\n",
      "\u001b[0;31mAssertionError\u001b[0m: Output key, 'inds', does not have a value of type `list`."
     ]
    }
   ],
   "source": [
    "# `compress_vector_test`: Test cell\n",
    "def check_compress_vector(x_orig):\n",
    "    print(\"Testing `compress_vector(x={})`:\".format(x_orig))\n",
    "    x = x_orig\n",
    "    nz = x.count(0.0)\n",
    "    print(\"\\t`x` has {} zero entries.\".format(nz))\n",
    "    d = compress_vector(x)\n",
    "    print(\"\\tx (after call): {}\".format(x))\n",
    "    print(\"\\td: {}\".format(d))\n",
    "    assert x == x_orig, \"Your implementation appears to modify the input.\"\n",
    "    assert type(d) is dict, \"Output type is not `dict` (a dictionary).\"\n",
    "    assert 'inds' in d and type(d['inds']) is list, \"Output key, 'inds', does not have a value of type `list`.\"\n",
    "    assert 'vals' in d and type(d['vals']) is list, \"Output key, 'vals', does not have a value of type `list`.\"\n",
    "    assert len(d['inds']) == len(d['vals']), \"`d['inds']` and `d['vals']` are lists of unequal length.\"\n",
    "    for i, v in zip(d['inds'], d['vals']):\n",
    "        assert x[i] == v, \"x[{}] == {} instead of {}\".format(i, x[i], v)\n",
    "    assert nz + len(d['vals']) == len(x), \"Output may be missing values.\"\n",
    "    assert len(d.keys()) == 2, \"Output may have keys other than 'inds' and 'vals'.\"\n",
    "    \n",
    "# Test 1: Example\n",
    "x = [0.0, 0.87, 0.0, 0.0, 0.0, 0.32, 0.46, 0.0, 0.0, 0.10, 0.0, 0.0]\n",
    "check_compress_vector(x)\n",
    "\n",
    "# Test 2: Random sparse vectors\n",
    "from random import random\n",
    "for _ in range(3):\n",
    "    print(\"\")\n",
    "    x = []\n",
    "    for _ in range(20):\n",
    "        if random() <= 0.8: # Make about 10% of entries zero\n",
    "            v = 0.0\n",
    "        else:\n",
    "            v = float(\"{:.2f}\".format(random()))\n",
    "        x.append(v)\n",
    "    check_compress_vector(x)\n",
    "    \n",
    "# Test 3: Empty vector\n",
    "x = [0.0] * 10\n",
    "check_compress_vector(x)\n",
    "\n",
    "print(\"\\n(Passed!)\")"
   ]
  },
  {
   "cell_type": "code",
   "execution_count": null,
   "metadata": {},
   "outputs": [],
   "source": []
  }
 ],
 "metadata": {
  "kernelspec": {
   "display_name": "Python 2",
   "language": "python",
   "name": "python2"
  },
  "language_info": {
   "codemirror_mode": {
    "name": "ipython",
    "version": 2
   },
   "file_extension": ".py",
   "mimetype": "text/x-python",
   "name": "python",
   "nbconvert_exporter": "python",
   "pygments_lexer": "ipython2",
   "version": "2.7.15"
  }
 },
 "nbformat": 4,
 "nbformat_minor": 2
}
