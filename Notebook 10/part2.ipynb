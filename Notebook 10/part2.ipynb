{
 "cells": [
  {
   "cell_type": "markdown",
   "metadata": {
    "deletable": false,
    "editable": false,
    "nbgrader": {
     "grade": false,
     "grade_id": "cell-467487ba59ea183e",
     "locked": true,
     "schema_version": 1,
     "solution": false
    }
   },
   "source": [
    "# Part 2: Dense matrix storage \n",
    "This part of the lab is a brief introduction to efficient storage of matrices."
   ]
  },
  {
   "cell_type": "markdown",
   "metadata": {
    "deletable": false,
    "editable": false,
    "nbgrader": {
     "grade": false,
     "locked": true,
     "solution": false
    }
   },
   "source": [
    "**Exercise 0** (ungraded). Import Numpy!"
   ]
  },
  {
   "cell_type": "code",
   "execution_count": 1,
   "metadata": {
    "deletable": false,
    "editable": false,
    "nbgrader": {
     "grade": false,
     "grade_id": "cell-4263c0d16078cf0a",
     "locked": true,
     "schema_version": 1,
     "solution": false
    }
   },
   "outputs": [
    {
     "name": "stdout",
     "output_type": "stream",
     "text": [
      "1.15.4\n"
     ]
    }
   ],
   "source": [
    "import numpy as np\n",
    "print(np.__version__)"
   ]
  },
  {
   "cell_type": "markdown",
   "metadata": {
    "deletable": false,
    "editable": false,
    "nbgrader": {
     "grade": false,
     "locked": true,
     "solution": false
    }
   },
   "source": [
    "## Dense matrix storage: Column-major versus row-major layouts\n",
    "\n",
    "For linear algebra, we will be especially interested in 2-D arrays, which we will use to store matrices. For this common case, there is a subtle performance issue related to how matrices are stored in memory.\n",
    "\n",
    "By way of background, physical storage---whether it be memory or disk---is basically one big array. And because of how physical storage is implemented, it turns out that it is much faster to access consecutive elements in memory than, say, to jump around randomly."
   ]
  },
  {
   "cell_type": "markdown",
   "metadata": {
    "deletable": false,
    "editable": false,
    "nbgrader": {
     "grade": false,
     "locked": true,
     "solution": false
    }
   },
   "source": [
    "A matrix is a two-dimensional object. Thus, when it is stored in memory, it must be mapped in some way to the one-dimensional physical array. There are many possible mappings, but the two most common conventions are known as the _column-major_ and _row-major_ layouts:\n",
    "\n",
    "<img src=\"matrix-layout.png\" alt=\"Exercise: Extract these slices\" width=\"640\">"
   ]
  },
  {
   "cell_type": "markdown",
   "metadata": {
    "deletable": false,
    "editable": false,
    "nbgrader": {
     "grade": false,
     "locked": true,
     "solution": false
    }
   },
   "source": [
    "**Exercise 1** (2 points). Let $A$ be an $m \\times n$ matrix stored in column-major format. Let $B$ be an $m \\times n$ matrix stored in row-major format.\n",
    "\n",
    "Based on the preceding discussion, recall that these objects will be mapped to 1-D arrays of length $mn$, behind the scenes. Let's call the 1-D array representations $\\hat{A}$ and $\\hat{B}$. Thus, the $(i, j)$ element of $a$, $a_{ij}$, will map to some element $\\hat{a}_u$ of $\\hat{A}$; similarly, $b_{ij}$ will map to some element $\\hat{b}_v$ of $\\hat{B}$.\n",
    "\n",
    "Determine formulae to compute the 1-D index values, $u$ and $v$, in terms of $\\{i, j, m, n\\}$. Assume that all indices are 0-based, i.e., $0 \\leq i \\leq m-1$, $0 \\leq j \\leq n-1$, and $0 \\leq u, v \\leq mn-1$."
   ]
  },
  {
   "cell_type": "code",
   "execution_count": 2,
   "metadata": {
    "deletable": false,
    "nbgrader": {
     "checksum": "e628bb9dc9f0e8a68ad52ba1d43caca4",
     "grade": false,
     "grade_id": "calc_u",
     "locked": false,
     "schema_version": 1,
     "solution": true
    }
   },
   "outputs": [],
   "source": [
    "def linearize_colmajor(i, j, m, n): # calculate `u`\n",
    "    \"\"\"\n",
    "    Returns the linear index for the `(i, j)` entry of\n",
    "    an `m`-by-`n` matrix stored in column-major order.\n",
    "    \"\"\"\n",
    "    ###\n",
    "    ### YOUR CODE HERE\n",
    "    ###\n",
    "    u = m * j + i\n",
    "    return u"
   ]
  },
  {
   "cell_type": "code",
   "execution_count": 3,
   "metadata": {
    "deletable": false,
    "nbgrader": {
     "checksum": "a7ca53a5a658c1c36cbdf1a3ef1a03d9",
     "grade": false,
     "grade_id": "calc_v",
     "locked": false,
     "schema_version": 1,
     "solution": true
    }
   },
   "outputs": [],
   "source": [
    "def linearize_rowmajor(i, j, m, n): # calculate `v`\n",
    "    \"\"\"\n",
    "    Returns the linear index for the `(i, j)` entry of\n",
    "    an `m`-by-`n` matrix stored in row-major order.\n",
    "    \"\"\"\n",
    "    ###\n",
    "    ### YOUR CODE HERE\n",
    "    ###\n",
    "    v = n * i + j\n",
    "    return v\n"
   ]
  },
  {
   "cell_type": "code",
   "execution_count": 4,
   "metadata": {
    "deletable": false,
    "editable": false,
    "nbgrader": {
     "checksum": "917a5dd8ab9f91bc5fbae92435acd42d",
     "grade": true,
     "grade_id": "calc_uv_test",
     "locked": true,
     "points": 2,
     "schema_version": 1,
     "solution": false
    }
   },
   "outputs": [
    {
     "name": "stdout",
     "output_type": "stream",
     "text": [
      "(Passed.)\n"
     ]
    }
   ],
   "source": [
    "# Test cell: `calc_uv_test`\n",
    "\n",
    "# Quick check (not exhaustive):\n",
    "assert linearize_colmajor(7, 4, 10, 20) == 47\n",
    "assert linearize_rowmajor(7, 4, 10, 20) == 144\n",
    "\n",
    "assert linearize_colmajor(10, 8, 86, 26) == 698\n",
    "assert linearize_rowmajor(10, 8, 86, 26) == 268\n",
    "\n",
    "assert linearize_colmajor(8, 34, 17, 40) == 586\n",
    "assert linearize_rowmajor(8, 34, 17, 40) == 354\n",
    "\n",
    "assert linearize_colmajor(32, 48, 37, 55) == 1808\n",
    "assert linearize_rowmajor(32, 48, 37, 55) == 1808\n",
    "\n",
    "assert linearize_colmajor(24, 33, 57, 87) == 1905\n",
    "assert linearize_rowmajor(24, 33, 57, 87) == 2121\n",
    "\n",
    "assert linearize_colmajor(10, 3, 19, 74) == 67\n",
    "assert linearize_rowmajor(10, 3, 19, 74) == 743\n",
    "\n",
    "print (\"(Passed.)\")"
   ]
  },
  {
   "cell_type": "markdown",
   "metadata": {
    "deletable": false,
    "editable": false,
    "nbgrader": {
     "grade": false,
     "locked": true,
     "solution": false
    }
   },
   "source": [
    "## Requesting a layout in Numpy\n",
    "\n",
    "In Numpy, you can ask for either layout. The default in Numpy is row-major.\n",
    "\n",
    "Historically numerical linear algebra libraries were developed assuming column-major layout. This layout happens to be the default when you declare a 2-D array in the Fortran programming language. By contrast, in the C and C++ programming languages, the default convention for a 2-D array is row-major layout. So the Numpy default is the C/C++ convention.\n",
    "\n",
    "In your programs, you can request either order of Numpy using the `order` parameter. For linear algebra operations (common), we recommend using the column-major convention.\n",
    "\n",
    "In either case, here is how you would create column- and row-major matrices."
   ]
  },
  {
   "cell_type": "code",
   "execution_count": 5,
   "metadata": {
    "deletable": false,
    "editable": false,
    "nbgrader": {
     "grade": false,
     "locked": true,
     "solution": false
    }
   },
   "outputs": [],
   "source": [
    "n = 5000\n",
    "A_colmaj = np.ones((n, n), order='F') # column-major (Fortran convention)\n",
    "A_rowmaj = np.ones((n, n), order='C') # row-major (C/C++ convention)"
   ]
  },
  {
   "cell_type": "code",
   "execution_count": 29,
   "metadata": {},
   "outputs": [
    {
     "name": "stdout",
     "output_type": "stream",
     "text": [
      "\n",
      "A_colmaj: \n",
      "[[1. 1. 1. ... 1. 1. 1.]\n",
      " [1. 1. 1. ... 1. 1. 1.]\n",
      " [1. 1. 1. ... 1. 1. 1.]\n",
      " ...\n",
      " [1. 1. 1. ... 1. 1. 1.]\n",
      " [1. 1. 1. ... 1. 1. 1.]\n",
      " [1. 1. 1. ... 1. 1. 1.]]\n",
      "\n",
      "A_rowmaj: \n",
      "[[1. 1. 1. ... 1. 1. 1.]\n",
      " [1. 1. 1. ... 1. 1. 1.]\n",
      " [1. 1. 1. ... 1. 1. 1.]\n",
      " ...\n",
      " [1. 1. 1. ... 1. 1. 1.]\n",
      " [1. 1. 1. ... 1. 1. 1.]\n",
      " [1. 1. 1. ... 1. 1. 1.]]\n"
     ]
    }
   ],
   "source": [
    "print '\\nA_colmaj: \\n', A_colmaj\n",
    "print '\\nA_rowmaj: \\n', A_rowmaj"
   ]
  },
  {
   "cell_type": "markdown",
   "metadata": {
    "deletable": false,
    "editable": false,
    "nbgrader": {
     "grade": false,
     "locked": true,
     "solution": false
    }
   },
   "source": [
    "**Exercise 2** (1 point). Given a matrix $A$, write a function that scales each column, $A(:, j)$ by $j$. Then compare the speed of applying that function to matrices in row and column major order."
   ]
  },
  {
   "cell_type": "code",
   "execution_count": 38,
   "metadata": {
    "deletable": false,
    "nbgrader": {
     "checksum": "8abc750df11036d09bd1e787452d2682",
     "grade": false,
     "grade_id": "scale_colwise",
     "locked": false,
     "schema_version": 1,
     "solution": true
    }
   },
   "outputs": [],
   "source": [
    "def scale_colwise(A):\n",
    "    \"\"\"Given a Numpy matrix `A`, visits each column `A[:, j]`\n",
    "    and scales it by `j`.\"\"\"\n",
    "    assert type(A) is np.ndarray\n",
    "    \n",
    "    n_cols = A.shape[1] # number of columns\n",
    "    ###\n",
    "    ### YOUR CODE HERE\n",
    "    ###\n",
    "    for j in range(n_cols):\n",
    "        A[:,j] *= j\n",
    "    return A"
   ]
  },
  {
   "cell_type": "code",
   "execution_count": 39,
   "metadata": {
    "deletable": false,
    "editable": false,
    "nbgrader": {
     "grade": true,
     "grade_id": "scale_colwise_test",
     "locked": true,
     "points": 1,
     "schema_version": 1,
     "solution": false
    }
   },
   "outputs": [
    {
     "name": "stdout",
     "output_type": "stream",
     "text": [
      "1 loop, best of 3: 186 ms per loop\n",
      "10 loops, best of 3: 28.8 ms per loop\n"
     ]
    }
   ],
   "source": [
    "# Test (timing) cell: `scale_colwise_test`\n",
    "\n",
    "# Measure time to scale a row-major input column-wise\n",
    "%timeit scale_colwise(A_rowmaj)\n",
    "\n",
    "# Measure time to scale a column-major input column-wise\n",
    "%timeit scale_colwise(A_colmaj)"
   ]
  },
  {
   "cell_type": "markdown",
   "metadata": {
    "collapsed": true,
    "deletable": false,
    "editable": false,
    "nbgrader": {
     "grade": false,
     "locked": true,
     "solution": false
    }
   },
   "source": [
    "## Python vs. Numpy example: Matrix-vector multiply\n",
    "\n",
    "Look at the definition of matrix-vector multiplication from [Da Kuang's linear algebra notes](https://www.dropbox.com/s/f410k9fgd7iesdv/kuang-linalg-notes.pdf?dl=0). Let's benchmark a matrix-vector multiply in native Python, and compare that to doing the same operation in Numpy.\n",
    "\n",
    "First, some setup. (What does this code do?)"
   ]
  },
  {
   "cell_type": "code",
   "execution_count": 141,
   "metadata": {
    "nbgrader": {
     "grade": false,
     "locked": false,
     "solution": false
    }
   },
   "outputs": [],
   "source": [
    "# Dimensions; you might shrink this value for debugging\n",
    "n = 25"
   ]
  },
  {
   "cell_type": "code",
   "execution_count": 142,
   "metadata": {
    "deletable": false,
    "editable": false,
    "nbgrader": {
     "grade": false,
     "locked": true,
     "solution": false
    }
   },
   "outputs": [],
   "source": [
    "# Generate random values, for use in populating the matrix and vector\n",
    "from random import gauss\n",
    "\n",
    "# Native Python, using lists\n",
    "A_py = [gauss(0, 1) for i in range(n*n)] # Assume: Column-major\n",
    "x_py = [gauss(0, 1) for i in range(n)]"
   ]
  },
  {
   "cell_type": "code",
   "execution_count": 113,
   "metadata": {
    "scrolled": true
   },
   "outputs": [
    {
     "name": "stdout",
     "output_type": "stream",
     "text": [
      "[-1.2601861816040336, 0.8074421302782169, 0.6540166804920224, 1.7318092204458022, 1.143702567161351, 1.3742297773162528, -0.25554007458795036, 1.2102676930787242, 0.6784942964766687, 0.5281390490025049, -0.09702053614296272, -0.37801299592420184, 0.23585727991823385, 0.5951506701994622, -0.7699575088316851, 1.0938730355731763, 0.7160178824659956, -0.14368382323999282, -0.8143461406957127, -0.37439638392610636, -2.055122700711993, -0.4330139975857751, 0.5939404185473411, -0.7200282926090701, 0.5167813018233373, -0.3773925096158718, -0.8514722702354628, 1.194093678050377, 0.5389560351529761, 1.1612872473161413, -1.814527042292571, -0.49088117157624883, -1.0138330994680473, -0.4740176217427012, 1.1472375449961614, 1.4893905312162916, 1.1683164447722776, -0.7536778379226817, 0.5198548554718337, -0.04396817097227111, -0.2409690202089425, -0.9023001176135699, -0.34785931593225694, 1.2309982242330326, 0.02436021773491035, -0.3787297147399185, 0.053241685784138626, -1.4117332207555384, 1.7357289488947545, 0.5739558962623137, 0.15558210084413948, -0.7145978930364617, -1.095704225337847, -0.5915405096804873, -0.3164212453062921, 0.01151020786850094, -0.8817300763507707, 0.28344705803713793, -0.6760844424931902, 0.31969859297197833, -0.42554230093988704, -1.5869932705621221, 0.14511410301919989, -0.7017383634290152, -0.7772541684884878, 0.20390624161723783, 1.4310594035242419, 1.6957054283777542, 0.10993588364107079, 1.3077904244654712, -0.7946232191766782, 1.9440506001981668, -1.4926552278774634, -0.38878424411229906, 0.2536032184521342, -0.869139975606707, 0.18225006818681166, -0.014640980288218414, 0.5168020717003149, -0.5480576583937408, -0.3793591759351051, -0.6678194033136771, -1.0444518695494867, -0.20051772828009296, 0.8813889758116439, -0.16654698109309735, -1.9673301729175139, -0.7092989678295293, -0.42726282006410465, 0.5232781230396231, 0.36722780869303046, 0.5054848977547778, 0.0028725341875766013, -0.33639905250659385, 0.7786443338826918, 0.8518397887332482, -1.4055776654492018, 0.3071344602084546, -1.347152661673908, 1.276438398348812, -0.956429415483216, 0.09006354170743967, 0.23350455706930745, 0.2760386527886362, -0.7842368427197776, -0.3794924987398753, -0.9875727526377749, -0.7637005645138897, -0.8049319989542524, -0.1208410893443009, 0.2282960584082559, -2.197129051225658, 0.10752737949851772, -1.2943191520053081, -0.4864003667654155, 0.5990239458423567, 0.5732412723180846, 0.19365107042340185, -0.7208879270566093, -1.6053353054191086, 1.4471883183541832, 0.5874045691818301, -1.2125473381410408, -0.7619120774839294, -0.9401856555721316, 0.8482595927729304, -0.4374374997480591, -1.4726976658623925, 0.9998409156407526, 0.5049082992047046, 1.5307344932548603, 0.5223091867462859, 0.8515567063649888, 0.630374654147825, 1.1264469785265656, -0.778877016955344, 0.12044927117947847, 0.06888176326864291, 1.6550732510200759, -0.33807875630019507, 0.19643367452967012, -2.5961872656868, 0.7710228154272072, 0.2863547677681245, -0.13000138847630266, 0.4383775550584873, 0.6926239333915543, 1.9928479073206224, 1.1319467397025194, 0.2811945120162882, -2.5079366518779014, -1.1373076290672197, 0.07113146262436336, -0.7230698523633972, -0.6044806311200925, 0.9826360192462111, -0.1798602879736949, 1.5393938756040715, 1.3626242679201714, 0.35648586000044075, 0.37755636700404044, -0.07551112936077524, 1.2503767709470015, -0.009910566616316407, -1.0685670646086587, 0.9934410080685184, -1.7354998439609375, 1.0203356995683561, -0.06373017762566317, -1.6985808332775107, -0.180621709344921, 0.7148973439431519, -0.5783587126349314, -0.08193155406148729, -1.74269757441149, 0.8676788150320368, -0.31008559231004423, 0.6418111074165658, -0.32534703500117335, 0.11750476874278085, -1.2117267748475957, -0.8474826344013155, -0.658894267124522, -1.2937018216091623, 0.6397319591293125, -0.4941587850002012, -0.27700241728495806, -2.189037990187201, -1.0963806430350387, 0.9495665187900469, 1.087197416054412, -0.763495070574764, -1.2557435916039237, 0.3411179307058566, -0.9412290551071871, -0.18814393312207772, -0.12027941091670012, -1.7605513887273878, -0.5947211693497927, -1.8159323645950416, -2.6375032701353294, -0.2754742954906193, -0.0657296448911386, 0.9467305297318241, 0.9063937194030008, 0.5613011427760728, 0.21428853864351505, 0.9263596167254294, -0.40412952128294705, -0.5310114010314694, -0.31891967508251207, -0.8440036282079812, -0.7131564286469804, 0.4067783823034452, 0.6888189724587248, -0.19183355354290155, -0.1725832700707784, -0.28343414029931, -2.3248161050374576, 0.7649031451345162, 1.2246664941314933, 0.3501988161105609, -2.0430613040704286, -0.1257796323521518, -0.8851258255019313, 0.4590203991610216, -0.9836984344451615, 0.3238204960063663, -0.22952818503276123, -1.0996420235103723, 0.3744850890156964, -0.1005248355222915, -1.1951132089568537, 1.2036423860560193, -0.6591227659749125, -0.7332629299881054, -1.2289700710835294, -0.9812345979396909, -1.0098124414119138, 0.6295781148001879, -1.2017936760033527, -0.5554095591234025, 1.0979130154229195, 1.9829405230795039, 2.1869616891618224, -1.08749070574471, 0.7292827619318626, -0.09962676297423667, -0.9722720185219054, -0.05525155229909166, 1.0696398300350969, -0.1286847288540266, -0.6639717740742389, 2.8120253087955422, 0.40438422435814164, 1.400769633303902, 1.1611551248030647, -0.4526332727800553, 1.134348839064945, -1.7282227295138226, -0.07060396652168409, 0.9064105599147975, 0.9306905669066061, -1.257366923346697, -1.29660781817014, 0.6894389700161748, -1.6703972309105792, -0.07556197515923696, 0.25255682370754406, 0.34703869268505755, -0.6311816538459433, 1.011879701855199, -0.9028481156387866, 0.1089996499169261, 0.03626328901279257, -0.7540901436568124, 1.036994210258448, 0.45974755127728517, -1.200100703044793, 0.3872257504501039, 0.07018056692862469, -0.18697594790457953, -0.25193279760076476, 0.6725675268383144, 0.24150995768119243, 1.4133356156397978, 0.808297159976256, 0.13843668325857306, 0.20990839824226804, 0.16373471971985967, -0.3446404563775608, 1.7967187123075445, 0.4801825946758626, 0.7523589060051824, -1.5146909381544795, 0.9709170666061275, -0.8441695960108537, 0.18088898064250014, -0.7857701961793152, -0.8343261751344272, 0.6976642240136125, 1.2551586325753838, -0.1091766062396217, -0.17918671748411488, 1.0573804201833945, 0.5829843961115699, 1.0626175893479501, -1.310120968912388, -0.8418702772724772, 0.6786951416434928, -1.0437713039566527, -0.4908588303869596, -0.4817161507916142, -0.8614179176251617, -0.26458785751281455, -3.2875672710035313, 0.19636506875866802, 0.10952765187616685, 0.10758399782420476, 0.740902974746297, -0.4765860916346748, 0.8945804468405428, -1.4569604199005342, 1.0738098356012633, 1.7530252145872567, 0.6760359667992372, 0.041340779155034424, 0.29825373295207885, 0.14614611480542197, -0.9267262677965644, -0.10436266630413762, 1.5490580300868133, 0.1833214204851705, 0.03159576819117085, -0.9091430528238158, -1.3220282164355592, 0.135212560091958, 0.8497606095083473, 0.7596580858798747, 0.7401559551898, -0.19952979643307983, 0.2798773886223202, -0.6616220533412555, 0.25338665040265357, -1.6043629380205657, -0.46615882633728256, -0.8758820270514892, 0.009745759237165986, -0.5213868407316569, 0.5685566757741265, -0.5412356262185766, 1.941491740488535, 1.4409280879991986, 0.3517559677741844, -0.3454863891541051, 0.5463387937576308, -0.573620284639203, 0.7193733489881162, -0.37149194872826485, -0.698938374190613, 2.1551714794203005, 1.0449338873693765, -0.08586830692060429, -0.4677754627338976, -0.05611366321386444, -0.8080894519842781, 2.29314108720121, -0.460041054652832, -1.1461866274104848, 0.883092443148537, 1.6096700982057142, 2.37276539889464, -1.378340729907688, -0.37011572867940284, 0.6162860087446442, -0.2473669066998446, -1.0793975799172817, 0.6305958998918983, 0.08198679509240757, -2.4535942487904743, 0.7836493888413804, 0.562060839021813, 0.902792230637465, -0.0071082216704112635, -0.6637783083165298, 1.4010900443661811, -0.5883618024373716, 0.0417406184468742, 2.4965153468934713, -0.6638783613797751, -1.2262288758612987, -0.12531098475615263, -1.201712035782032, 0.10078626488278296, -0.520188698851925, 1.015128919773611, -0.5036164399040933, 1.4216284942013249, 0.4829069302806936, -0.2526488944368734, 0.2640394066946465, 1.3293032767918018, 2.49809088915154, 0.8896772625778206, 0.04875153345783091, -1.5453951629487384, 0.39473336966811107, -0.2614234542904238, -0.5450853746971662, -0.11902090329618159, -0.029271234097331976, 0.7959371176725022, -0.7204125295207479, 1.3264421156462884, -0.15340724537719996, 0.5406589187657818, 0.019781987324782473, 1.9275421915240611, -0.1993554348741687, -0.27408528992921144, -0.27958133132937457, -0.02816501299071831, -0.4493045913572263, -1.4294240286002151, 0.32374364543801576, 1.0769643423162534, -0.1843641481121578, 0.6388062476869886, -0.2663452130377278, 0.9431334502337125, 0.07989315264390799, 0.39920093159665043, 1.9431834664998695, 0.6340549676134477, -2.4374056288758994, -1.347951876183536, 0.9006523434858543, 1.4619589944775317, 1.0591414992508235, -0.10248163806882689, 0.257115888160469, -0.20012712407677877, -0.45735787696251207, 0.5414182164882421, -0.30533945136744267, -0.8855793640784673, 0.43543382692127786, 0.7855691068346906, 1.729942299901901, -0.29499653344006777, 0.1177164446614087, -0.5647517020561188, -0.5406018872136042, -1.0391205725806307, 0.23332143438968136, 0.26379334570183205, -2.1393229642331626, 1.0019504122703784, -0.4182122679940578, -0.6931124886377328, 1.7314086662777843, 1.9006467215689222, 1.0187445457466064, -0.632443934357777, 0.3036040554245239, 1.2609315543441468, -0.27175977890573844, -0.7929588727745791, -0.6746690879627321, 0.08080682165239267, 0.6798317732164406, 0.4620553187085443, 0.3352319980453014, 1.608953389201621, 1.657394157878111, -0.270446834501434, 2.1787158474377364, -0.541918942031786, 1.3078674508883494, 0.7521730972186405, -0.3002483177627568, 0.10311065536914124, 0.2658883019043404, -0.7180960038379964, 0.871846665856463, -0.2637035980172882, -1.0572590452760255, -0.5801124500992684, -0.640690345629892, 1.6882556490607283, -0.2453544512191908, 0.3097896747826001, -2.3924325224676024, 0.43817901508163487, 0.16573112228606657, -0.30474523798113845, 0.4013816248975523, 1.8207286845615007, 0.14902380253449848, 0.4473235596143991, -0.8966371603204312, -0.22031063810209298, -0.14013738918079044, 0.13274895623321994, 0.8708686043326559, 0.17997460316107697, -0.5416817860768184, 0.26982946153093523, 0.6036445118907415, -1.018789524367996, -0.4928361871068906, 1.096658413284108, -0.3763069134244103, -1.170275765218198, 0.5918101834821193, -0.937152911320169, -0.06589110888346246, -0.7130036689651671, 0.703753442033194, -0.18141123190233513, 1.038047706618141, -2.8679782440152213, 0.27633665443317057, 0.4291598013459825, 0.5681451071225414, 0.35160547385804874, 1.134768454826407, 0.5432238931549912, 1.0294449788768407, 0.6715386336542392, -0.10735327030141074, -0.8510217385268471, -0.5773959347949496, 1.0545372025971929, 0.7926079594474008, -0.6497004312666865, 1.5636349208183866, -1.837809257318616, 0.010580673788390695, -1.3474388937200048, -1.0521439283700622, 1.1367445329510752, -0.2414410381692687, 1.080214286901215, 1.0536412162384279, -0.31678415140814525, 0.38708538267377185, 0.997687506613325, 2.215947544072997, -0.7098173045031078, 1.5859975206959074, 1.1550642224992234, -0.09910606990130066, -0.22267365133964567, 0.41713213048315523, -1.0380865803883723, -0.08155555762134661, 1.3676222369941693, -1.1896684160763138, -1.1658122738364667, 0.6707868849697298, -0.6062274674789153, 0.013457614194932821, -0.05584690304595571, -0.38424689817545843, 1.521861995768487, -0.9755707119086319, 0.8457414263888328, 0.06637903763681384, 1.025365913806006, -1.7630272634926054, -0.6542908756021455, -2.2508060249001405, 1.9536276816323985, 0.5748210143262547, -0.011904029609037192, 0.6995932667629527, 0.007710815022314414, -1.288142137917114, 0.7336005748154428, 1.208835163417244, -0.3366512251618363, 0.7086250017477556, 1.3063198782618357, 0.7233675035523396, -0.6616390897378571, 0.731845250411664, -0.49064417773614044, 0.5233526179462682, -0.40108822132095895, -0.6368950904787153, -3.112005039629658, 0.14207950321332788, 1.1274036395135811, 1.1305447164247127, -0.5260356652246271, 0.5748532085906755, -0.1476983288974322, 1.4208491039462527, -0.8064486418548724, 1.408276715519146, -0.06267822999707262, -0.0781559600420993, 0.0997867649960926, -1.8199981370815845, -0.3880573862267343, -1.017727668696376, -0.9903745735083125, 1.3759852579664162, 0.865397545374267, -0.31002310642084413, -0.8029910235284818, -0.5659937177560289, -0.4850936124461439, -0.6023159833023841, -0.5551212444333913, -1.7830408758587322, 0.6169358604226022, -0.2380645380578683, 0.17184982473207483, 1.0365148125890604, 0.7178993695232603, 1.2583208345527097, 0.20295392872131948, -2.934577410016061]\n"
     ]
    }
   ],
   "source": [
    "print A_py"
   ]
  },
  {
   "cell_type": "code",
   "execution_count": 143,
   "metadata": {
    "deletable": false,
    "editable": false,
    "nbgrader": {
     "grade": false,
     "locked": true,
     "solution": false
    }
   },
   "outputs": [],
   "source": [
    "# Convert values into Numpy arrays in column-major order\n",
    "A_np = np.reshape(A_py, (n, n), order='F')\n",
    "x_np = np.reshape(x_py, (n, 1), order='F')"
   ]
  },
  {
   "cell_type": "code",
   "execution_count": 126,
   "metadata": {},
   "outputs": [
    {
     "name": "stdout",
     "output_type": "stream",
     "text": [
      "(25, 25)\n"
     ]
    }
   ],
   "source": [
    "print A_np.shape"
   ]
  },
  {
   "cell_type": "code",
   "execution_count": 60,
   "metadata": {
    "deletable": false,
    "editable": false,
    "nbgrader": {
     "grade": false,
     "locked": true,
     "solution": false
    }
   },
   "outputs": [
    {
     "name": "stdout",
     "output_type": "stream",
     "text": [
      "The slowest run took 95.47 times longer than the fastest. This could mean that an intermediate result is being cached.\n",
      "1000000 loops, best of 3: 632 ns per loop\n"
     ]
    }
   ],
   "source": [
    "# Here is how you do a \"matvec\" in Numpy:\n",
    "%timeit A_np.dot(x_np)"
   ]
  },
  {
   "cell_type": "code",
   "execution_count": 144,
   "metadata": {},
   "outputs": [
    {
     "name": "stdout",
     "output_type": "stream",
     "text": [
      "(25, 1)\n"
     ]
    }
   ],
   "source": [
    "print A_np.dot(x_np).shape"
   ]
  },
  {
   "cell_type": "markdown",
   "metadata": {
    "deletable": false,
    "editable": false,
    "nbgrader": {
     "grade": false,
     "locked": true,
     "solution": false
    }
   },
   "source": [
    "**Exercise 3** (3 points). Implement a matrix-vector product that operates on native Python lists. Assume the 1-D **column-major** storage of the matrix."
   ]
  },
  {
   "cell_type": "code",
   "execution_count": null,
   "metadata": {
    "collapsed": true,
    "deletable": false,
    "nbgrader": {
     "checksum": "407dbfe44ba36ac12065b96d9142e3a4",
     "grade": false,
     "grade_id": "matvec_py",
     "locked": false,
     "schema_version": 1,
     "solution": true
    }
   },
   "outputs": [],
   "source": [
    "def matvec_py(m, n, A, x):\n",
    "    \"\"\"\n",
    "    Native Python-based matrix-vector multiply, using lists.\n",
    "    The dimensions of the matrix A are m-by-n, and x is a\n",
    "    vector of length n.\n",
    "    \"\"\"\n",
    "    assert type(A) is list and all([type(aij) is float for aij in A])\n",
    "    assert type(x) is list\n",
    "    assert len(x) >= n\n",
    "    assert len(A) >= (m*n)\n",
    "\n",
    "    y = [0.] * m\n",
    "    ###\n",
    "    ### YOUR CODE HERE\n",
    "    ###\n",
    "    #---- Method 1: convert A_py list to a 2-d array\n",
    "    A_np = np.reshape(A, (m, n), order='F')  \n",
    "    for i in range(m):\n",
    "        for j in range(n):\n",
    "            y[i] = y[i]+A_np[i][j]*x[j]\n",
    "    \n",
    "    #---- Method 2: using slice by index to loop\n",
    "    return y"
   ]
  },
  {
   "cell_type": "code",
   "execution_count": 159,
   "metadata": {
    "deletable": false,
    "editable": false,
    "nbgrader": {
     "checksum": "caf39b3909e91acb9536e726b45bc4cf",
     "grade": true,
     "grade_id": "matvec_py_test",
     "locked": true,
     "points": 3,
     "schema_version": 1,
     "solution": false
    },
    "scrolled": false
   },
   "outputs": [
    {
     "name": "stdout",
     "output_type": "stream",
     "text": [
      "==> Error bound estimate:\n",
      "         C*n*eps\n",
      "         == 10*25*2.22045e-16\n",
      "         == 5.55112e-14\n",
      "\n"
     ]
    },
    {
     "data": {
      "text/latex": [
       "$$||y_{\\textrm{np}} - y_{\\textrm{py}}||_{\\infty} = \\textrm{5.32907e-15} \\leq \\textrm{5.55112e-14}\\ (\\textrm{estimated bound})$$"
      ],
      "text/plain": [
       "<IPython.core.display.Math object>"
      ]
     },
     "metadata": {},
     "output_type": "display_data"
    },
    {
     "name": "stdout",
     "output_type": "stream",
     "text": [
      "\n",
      "(Passed!)\n"
     ]
    }
   ],
   "source": [
    "# Test cell: `matvec_py_test`\n",
    "\n",
    "# Estimate a bound on the difference between these two\n",
    "EPS = np.finfo (float).eps # \"machine epsilon\"\n",
    "CONST = 10.0 # Some constant for the error bound\n",
    "dy_max = CONST * n * EPS\n",
    "\n",
    "print (\"\"\"==> Error bound estimate:\n",
    "         C*n*eps\n",
    "         == %g*%g*%g\n",
    "         == %g\n",
    "\"\"\" % (CONST, n, EPS, dy_max))\n",
    "\n",
    "# Run the Numpy version and your code\n",
    "y_np = A_np.dot (x_np)\n",
    "y_py = matvec_py (n, n, A_py, x_py)\n",
    "\n",
    "# Compute the difference between these\n",
    "dy = y_np - np.reshape (y_py, (n, 1), order='F')\n",
    "dy_norm = np.linalg.norm (dy, ord=np.inf)\n",
    "\n",
    "# Summarize the results\n",
    "from IPython.display import display, Math\n",
    "\n",
    "comparison = \"\\leq\" if dy_norm <= dy_max else \"\\gt\"\n",
    "display (Math (\n",
    "        r'||y_{\\textrm{np}} - y_{\\textrm{py}}||_{\\infty}'\n",
    "        r' = \\textrm{%g} %s \\textrm{%g}\\ (\\textrm{estimated bound})'\n",
    "        % (dy_norm, comparison, dy_max)\n",
    "    ))\n",
    "\n",
    "if n <= 4: # Debug: Print all data for small inputs\n",
    "    print (\"@A_np:\\n\", A_np)\n",
    "    print (\"@x_np:\\n\", x_np)\n",
    "    print (\"@y_np:\\n\", y_np)\n",
    "    print (\"@A_py:\\n\", A_py)\n",
    "    print (\"@x_py:\\n\", x_np)\n",
    "    print (\"@y_py:\\n\", y_py)\n",
    "    print (\"@dy:\\n\", dy)\n",
    "\n",
    "# Trigger an error on likely failure\n",
    "assert dy_norm <= dy_max\n",
    "print(\"\\n(Passed!)\")"
   ]
  },
  {
   "cell_type": "code",
   "execution_count": 160,
   "metadata": {
    "deletable": false,
    "editable": false,
    "nbgrader": {
     "grade": false,
     "grade_id": "cell-f0155950b35ebcf2",
     "locked": true,
     "schema_version": 1,
     "solution": false
    }
   },
   "outputs": [
    {
     "name": "stdout",
     "output_type": "stream",
     "text": [
      "1000 loops, best of 3: 516 µs per loop\n"
     ]
    }
   ],
   "source": [
    "%timeit matvec_py (n, n, A_py, x_py)"
   ]
  },
  {
   "cell_type": "markdown",
   "metadata": {
    "deletable": false,
    "editable": false,
    "nbgrader": {
     "grade": false,
     "grade_id": "cell-3c70eea14727218a",
     "locked": true,
     "schema_version": 1,
     "solution": false
    }
   },
   "source": [
    "**Fin!** If you've reached this point and everything executed without error, you can submit this part and move on to the next one."
   ]
  }
 ],
 "metadata": {
  "celltoolbar": "Create Assignment",
  "kernelspec": {
   "display_name": "Python 2",
   "language": "python",
   "name": "python2"
  },
  "language_info": {
   "codemirror_mode": {
    "name": "ipython",
    "version": 2
   },
   "file_extension": ".py",
   "mimetype": "text/x-python",
   "name": "python",
   "nbconvert_exporter": "python",
   "pygments_lexer": "ipython2",
   "version": "2.7.15"
  }
 },
 "nbformat": 4,
 "nbformat_minor": 1
}
